{
 "cells": [
  {
   "cell_type": "code",
   "execution_count": 1,
   "id": "cfba6f6c",
   "metadata": {},
   "outputs": [],
   "source": [
    "%load_ext autoreload\n",
    "%autoreload 2"
   ]
  },
  {
   "cell_type": "code",
   "execution_count": 2,
   "id": "0762d8e4-2b93-4f92-97c2-2b9d8c2bb380",
   "metadata": {},
   "outputs": [],
   "source": [
    "import pandas as pd\n",
    "\n",
    "from pprint import pp\n",
    "from io import StringIO\n",
    "from uuid import UUID, uuid4\n",
    "from joblib import dump, load\n",
    "from dataclasses import make_dataclass, field"
   ]
  },
  {
   "cell_type": "code",
   "execution_count": 3,
   "id": "069dffe2",
   "metadata": {},
   "outputs": [],
   "source": [
    "pd.set_option('display.max_rows', 50)\n",
    "pd.set_option('display.max_columns', None)"
   ]
  },
  {
   "cell_type": "code",
   "execution_count": 4,
   "id": "feb55e88-fd88-4a3a-9d76-82b1b72d357d",
   "metadata": {},
   "outputs": [],
   "source": [
    "from models import (\n",
    "    Item,\n",
    "    Book,\n",
    "    Advantage,\n",
    "    Disadvantage,\n",
    "    List,\n",
    "    Chapter,\n",
    "    Paragraphs,\n",
    "    Table,\n",
    "    Attribute\n",
    ")"
   ]
  },
  {
   "cell_type": "code",
   "execution_count": 5,
   "id": "a02771a2-0498-4843-bd67-fbc8b7a6ff1f",
   "metadata": {},
   "outputs": [],
   "source": [
    "from parsers import (\n",
    "    parse_paragraphs,\n",
    "    parse_list,\n",
    "    line_start_with_number_dot,\n",
    "    parse_table,\n",
    "    parse_dot_list,\n",
    "    split_list,\n",
    "    parse_number_list\n",
    ")"
   ]
  },
  {
   "cell_type": "code",
   "execution_count": 48,
   "id": "c42d64de",
   "metadata": {},
   "outputs": [],
   "source": [
    "from utils.utils import (\n",
    "    save_df,\n",
    "    load_items,\n",
    "    get_parent_type,\n",
    "    new_book,\n",
    "    add_chapter,\n",
    "    add_paragraphs,\n",
    "    add_heading,\n",
    "    elevate_parent,\n",
    "    add_list,\n",
    "    add_infobox,\n",
    "    add_table,\n",
    "    add_attribute,\n",
    "    add_special_limitation,\n",
    "    add_advantage,\n",
    "    add_perk,\n",
    "    add_enhancement\n",
    ")"
   ]
  },
  {
   "attachments": {},
   "cell_type": "markdown",
   "id": "feab9ab8",
   "metadata": {},
   "source": [
    "# New data model"
   ]
  },
  {
   "cell_type": "code",
   "execution_count": 14,
   "id": "5f0d9c5d",
   "metadata": {},
   "outputs": [],
   "source": [
    "items = []"
   ]
  },
  {
   "attachments": {},
   "cell_type": "markdown",
   "id": "97d399c6",
   "metadata": {},
   "source": [
    "# Load data model"
   ]
  },
  {
   "cell_type": "code",
   "execution_count": 7,
   "id": "07fc2eec",
   "metadata": {},
   "outputs": [],
   "source": [
    "items = load_items(title=\"df\")"
   ]
  },
  {
   "cell_type": "code",
   "execution_count": 8,
   "id": "afbeb8af",
   "metadata": {},
   "outputs": [],
   "source": [
    "book_id = items[0].id"
   ]
  },
  {
   "cell_type": "code",
   "execution_count": 177,
   "id": "11e6c009",
   "metadata": {},
   "outputs": [],
   "source": [
    "parent_id = items[-1].parent_id"
   ]
  },
  {
   "attachments": {},
   "cell_type": "markdown",
   "id": "64dce0ec",
   "metadata": {},
   "source": [
    "## Check Items"
   ]
  },
  {
   "cell_type": "code",
   "execution_count": 174,
   "id": "eb91c42b",
   "metadata": {},
   "outputs": [
    {
     "data": {
      "text/plain": [
       "Item(id=UUID('ae7c69f4-d11a-41aa-9688-46f441ee4731'), parent_id=UUID('2a7b94e6-37cb-4fd6-b177-a977171ed83a'), type='heading', metadata={'page': 104, 'title': 'Radiation (rad)', 'children': []})"
      ]
     },
     "execution_count": 174,
     "metadata": {},
     "output_type": "execute_result"
    }
   ],
   "source": [
    "items.pop()"
   ]
  },
  {
   "cell_type": "code",
   "execution_count": 311,
   "id": "8ac1e87c",
   "metadata": {},
   "outputs": [
    {
     "data": {
      "text/html": [
       "<div>\n",
       "<style scoped>\n",
       "    .dataframe tbody tr th:only-of-type {\n",
       "        vertical-align: middle;\n",
       "    }\n",
       "\n",
       "    .dataframe tbody tr th {\n",
       "        vertical-align: top;\n",
       "    }\n",
       "\n",
       "    .dataframe thead th {\n",
       "        text-align: right;\n",
       "    }\n",
       "</style>\n",
       "<table border=\"1\" class=\"dataframe\">\n",
       "  <thead>\n",
       "    <tr style=\"text-align: right;\">\n",
       "      <th></th>\n",
       "      <th>id</th>\n",
       "      <th>parent_id</th>\n",
       "      <th>type</th>\n",
       "      <th>metadata</th>\n",
       "    </tr>\n",
       "  </thead>\n",
       "  <tbody>\n",
       "    <tr>\n",
       "      <th>0</th>\n",
       "      <td>1e796d10-9718-4d54-b89d-2e31b2ee6645</td>\n",
       "      <td>1e796d10-9718-4d54-b89d-2e31b2ee6645</td>\n",
       "      <td>book</td>\n",
       "      <td>{'title': 'Basic Set - Characters'}</td>\n",
       "    </tr>\n",
       "    <tr>\n",
       "      <th>1</th>\n",
       "      <td>b460eb3f-a59b-493a-9230-f3d21f75c76b</td>\n",
       "      <td>1e796d10-9718-4d54-b89d-2e31b2ee6645</td>\n",
       "      <td>chapter</td>\n",
       "      <td>{'page': 5, 'title': 'Introduction', 'children...</td>\n",
       "    </tr>\n",
       "    <tr>\n",
       "      <th>2</th>\n",
       "      <td>7ae2d188-3106-4a82-9a54-b4e41efe2f1d</td>\n",
       "      <td>b460eb3f-a59b-493a-9230-f3d21f75c76b</td>\n",
       "      <td>paragraphs</td>\n",
       "      <td>{'page': -1, 'content': ['GURPS stands for “Ge...</td>\n",
       "    </tr>\n",
       "    <tr>\n",
       "      <th>3</th>\n",
       "      <td>f9fe638f-c21f-4f4e-9327-43b7491470e4</td>\n",
       "      <td>b460eb3f-a59b-493a-9230-f3d21f75c76b</td>\n",
       "      <td>paragraphs</td>\n",
       "      <td>{'page': -1, 'content': ['“Generic.” Some peop...</td>\n",
       "    </tr>\n",
       "    <tr>\n",
       "      <th>4</th>\n",
       "      <td>31198d32-fc2a-4b92-be04-840a094d9ed3</td>\n",
       "      <td>b460eb3f-a59b-493a-9230-f3d21f75c76b</td>\n",
       "      <td>paragraphs</td>\n",
       "      <td>{'page': -1, 'content': ['GURPS has been in pr...</td>\n",
       "    </tr>\n",
       "    <tr>\n",
       "      <th>...</th>\n",
       "      <td>...</td>\n",
       "      <td>...</td>\n",
       "      <td>...</td>\n",
       "      <td>...</td>\n",
       "    </tr>\n",
       "    <tr>\n",
       "      <th>1422</th>\n",
       "      <td>fabec80b-ea4b-4377-86ec-8d801993f0ad</td>\n",
       "      <td>1e9723cb-a0dc-4a70-907b-f27a13849f63</td>\n",
       "      <td>enhancement</td>\n",
       "      <td>{'page': 109, 'title': 'Variable', 'children':...</td>\n",
       "    </tr>\n",
       "    <tr>\n",
       "      <th>1423</th>\n",
       "      <td>fea70780-b1d3-4d48-8efc-79d7f20e4cc0</td>\n",
       "      <td>fabec80b-ea4b-4377-86ec-8d801993f0ad</td>\n",
       "      <td>paragraphs</td>\n",
       "      <td>{'page': -1, 'content': ['You can reduce the l...</td>\n",
       "    </tr>\n",
       "    <tr>\n",
       "      <th>1424</th>\n",
       "      <td>0fb23d9c-c32b-4d3f-97ab-3eee5f1bee3c</td>\n",
       "      <td>1e9723cb-a0dc-4a70-907b-f27a13849f63</td>\n",
       "      <td>enhancement</td>\n",
       "      <td>{'page': 109, 'title': 'Wall', 'children': [],...</td>\n",
       "    </tr>\n",
       "    <tr>\n",
       "      <th>1425</th>\n",
       "      <td>474e7a64-5d4f-45b0-9f32-b86bbe938c76</td>\n",
       "      <td>0fb23d9c-c32b-4d3f-97ab-3eee5f1bee3c</td>\n",
       "      <td>paragraphs</td>\n",
       "      <td>{'page': -1, 'content': ['You may only add thi...</td>\n",
       "    </tr>\n",
       "    <tr>\n",
       "      <th>1426</th>\n",
       "      <td>3737e949-ba37-4ac5-a073-334ddda8c1d8</td>\n",
       "      <td>0fb23d9c-c32b-4d3f-97ab-3eee5f1bee3c</td>\n",
       "      <td>list</td>\n",
       "      <td>{'page': -1, 'title': None, 'type': None, 'con...</td>\n",
       "    </tr>\n",
       "  </tbody>\n",
       "</table>\n",
       "<p>1427 rows × 4 columns</p>\n",
       "</div>"
      ],
      "text/plain": [
       "                                        id  \\\n",
       "0     1e796d10-9718-4d54-b89d-2e31b2ee6645   \n",
       "1     b460eb3f-a59b-493a-9230-f3d21f75c76b   \n",
       "2     7ae2d188-3106-4a82-9a54-b4e41efe2f1d   \n",
       "3     f9fe638f-c21f-4f4e-9327-43b7491470e4   \n",
       "4     31198d32-fc2a-4b92-be04-840a094d9ed3   \n",
       "...                                    ...   \n",
       "1422  fabec80b-ea4b-4377-86ec-8d801993f0ad   \n",
       "1423  fea70780-b1d3-4d48-8efc-79d7f20e4cc0   \n",
       "1424  0fb23d9c-c32b-4d3f-97ab-3eee5f1bee3c   \n",
       "1425  474e7a64-5d4f-45b0-9f32-b86bbe938c76   \n",
       "1426  3737e949-ba37-4ac5-a073-334ddda8c1d8   \n",
       "\n",
       "                                 parent_id         type  \\\n",
       "0     1e796d10-9718-4d54-b89d-2e31b2ee6645         book   \n",
       "1     1e796d10-9718-4d54-b89d-2e31b2ee6645      chapter   \n",
       "2     b460eb3f-a59b-493a-9230-f3d21f75c76b   paragraphs   \n",
       "3     b460eb3f-a59b-493a-9230-f3d21f75c76b   paragraphs   \n",
       "4     b460eb3f-a59b-493a-9230-f3d21f75c76b   paragraphs   \n",
       "...                                    ...          ...   \n",
       "1422  1e9723cb-a0dc-4a70-907b-f27a13849f63  enhancement   \n",
       "1423  fabec80b-ea4b-4377-86ec-8d801993f0ad   paragraphs   \n",
       "1424  1e9723cb-a0dc-4a70-907b-f27a13849f63  enhancement   \n",
       "1425  0fb23d9c-c32b-4d3f-97ab-3eee5f1bee3c   paragraphs   \n",
       "1426  0fb23d9c-c32b-4d3f-97ab-3eee5f1bee3c         list   \n",
       "\n",
       "                                               metadata  \n",
       "0                   {'title': 'Basic Set - Characters'}  \n",
       "1     {'page': 5, 'title': 'Introduction', 'children...  \n",
       "2     {'page': -1, 'content': ['GURPS stands for “Ge...  \n",
       "3     {'page': -1, 'content': ['“Generic.” Some peop...  \n",
       "4     {'page': -1, 'content': ['GURPS has been in pr...  \n",
       "...                                                 ...  \n",
       "1422  {'page': 109, 'title': 'Variable', 'children':...  \n",
       "1423  {'page': -1, 'content': ['You can reduce the l...  \n",
       "1424  {'page': 109, 'title': 'Wall', 'children': [],...  \n",
       "1425  {'page': -1, 'content': ['You may only add thi...  \n",
       "1426  {'page': -1, 'title': None, 'type': None, 'con...  \n",
       "\n",
       "[1427 rows x 4 columns]"
      ]
     },
     "execution_count": 311,
     "metadata": {},
     "output_type": "execute_result"
    }
   ],
   "source": [
    "df = pd.DataFrame(items)\n",
    "df"
   ]
  },
  {
   "cell_type": "code",
   "execution_count": 312,
   "id": "143e19de",
   "metadata": {},
   "outputs": [
    {
     "data": {
      "text/plain": [
       "'enhancement'"
      ]
     },
     "execution_count": 312,
     "metadata": {},
     "output_type": "execute_result"
    }
   ],
   "source": [
    "get_parent_type(items, df.parent_id.iloc[-1])"
   ]
  },
  {
   "cell_type": "code",
   "execution_count": 313,
   "id": "51a87538",
   "metadata": {},
   "outputs": [],
   "source": [
    "save_df(df=df, title=\"df\")"
   ]
  },
  {
   "attachments": {},
   "cell_type": "markdown",
   "id": "b923a8e7",
   "metadata": {},
   "source": [
    "# Parse Book"
   ]
  },
  {
   "attachments": {},
   "cell_type": "markdown",
   "id": "6ab870b2",
   "metadata": {},
   "source": [
    "## Initialize Book"
   ]
  },
  {
   "cell_type": "code",
   "execution_count": 16,
   "id": "3f099b54",
   "metadata": {},
   "outputs": [],
   "source": [
    "title = \"Basic Set - Characters\"\n",
    "item, parent_id, book_id = new_book(title=title, items=items)"
   ]
  },
  {
   "cell_type": "code",
   "execution_count": 17,
   "id": "04948c2b",
   "metadata": {},
   "outputs": [
    {
     "data": {
      "text/plain": [
       "Item(id=UUID('1e796d10-9718-4d54-b89d-2e31b2ee6645'), parent_id=UUID('1e796d10-9718-4d54-b89d-2e31b2ee6645'), type='book', metadata={'title': 'Basic Set - Characters'})"
      ]
     },
     "execution_count": 17,
     "metadata": {},
     "output_type": "execute_result"
    }
   ],
   "source": [
    "item"
   ]
  },
  {
   "attachments": {},
   "cell_type": "markdown",
   "id": "c2f0973d",
   "metadata": {},
   "source": [
    "## Add Chapter"
   ]
  },
  {
   "cell_type": "code",
   "execution_count": 834,
   "id": "05010dcd",
   "metadata": {},
   "outputs": [],
   "source": [
    "page = 32\n",
    "title = \"Chapter Two: Advantages\""
   ]
  },
  {
   "cell_type": "code",
   "execution_count": 835,
   "id": "d0a9c7e0",
   "metadata": {},
   "outputs": [],
   "source": [
    "item = add_chapter(\n",
    "    title=title, page=page, items=items, parent_id=book_id\n",
    ")\n",
    "parent_id = item.id"
   ]
  },
  {
   "attachments": {},
   "cell_type": "markdown",
   "id": "8fd11d01",
   "metadata": {},
   "source": [
    "## Add Paragraph"
   ]
  },
  {
   "cell_type": "code",
   "execution_count": 319,
   "id": "e36739c7",
   "metadata": {},
   "outputs": [],
   "source": [
    "text = \"\"\"You can apply limitations to almost\n",
    "any trait (although as with enhancements,\n",
    "skills are normally off-limits).\n",
    "When you apply a limitation to a disadvantage,\n",
    "you reduce its value as a\n",
    "disadvantage; e.g., a -10% limitation\n",
    "on a -25-point disadvantage would\n",
    "make it a -22.5-point trait, which\n",
    "rounds to -22 points. Limited disadvantages\n",
    "are worth fewer points\n",
    "because they affect you under more\n",
    "restricted circumstances.\n",
    "\n",
    "Remember that no matter how\n",
    "many limitations you take, you cannot\n",
    "reduce the cost of a trait by more than\n",
    "80%. That is, when totaling modifiers,\n",
    "treat net modifiers below -80% as\n",
    "-80%.\n",
    "\"\"\""
   ]
  },
  {
   "cell_type": "code",
   "execution_count": 320,
   "id": "a96a1bed",
   "metadata": {},
   "outputs": [],
   "source": [
    "item = add_paragraphs(text=text, items=items, parent_id=parent_id)"
   ]
  },
  {
   "attachments": {},
   "cell_type": "markdown",
   "id": "0147dae5",
   "metadata": {},
   "source": [
    "## Add Heading"
   ]
  },
  {
   "cell_type": "code",
   "execution_count": 314,
   "id": "9a526834",
   "metadata": {},
   "outputs": [],
   "source": [
    "page = 110\n",
    "title = \"Limitations\""
   ]
  },
  {
   "cell_type": "code",
   "execution_count": 315,
   "id": "d3fb41f7",
   "metadata": {},
   "outputs": [
    {
     "data": {
      "text/html": [
       "<div>\n",
       "<style scoped>\n",
       "    .dataframe tbody tr th:only-of-type {\n",
       "        vertical-align: middle;\n",
       "    }\n",
       "\n",
       "    .dataframe tbody tr th {\n",
       "        vertical-align: top;\n",
       "    }\n",
       "\n",
       "    .dataframe thead th {\n",
       "        text-align: right;\n",
       "    }\n",
       "</style>\n",
       "<table border=\"1\" class=\"dataframe\">\n",
       "  <thead>\n",
       "    <tr style=\"text-align: right;\">\n",
       "      <th></th>\n",
       "      <th>id</th>\n",
       "      <th>parent_id</th>\n",
       "      <th>type</th>\n",
       "      <th>metadata</th>\n",
       "    </tr>\n",
       "  </thead>\n",
       "  <tbody>\n",
       "    <tr>\n",
       "      <th>1424</th>\n",
       "      <td>0fb23d9c-c32b-4d3f-97ab-3eee5f1bee3c</td>\n",
       "      <td>1e9723cb-a0dc-4a70-907b-f27a13849f63</td>\n",
       "      <td>enhancement</td>\n",
       "      <td>{'page': 109, 'title': 'Wall', 'children': [],...</td>\n",
       "    </tr>\n",
       "  </tbody>\n",
       "</table>\n",
       "</div>"
      ],
      "text/plain": [
       "                                        id  \\\n",
       "1424  0fb23d9c-c32b-4d3f-97ab-3eee5f1bee3c   \n",
       "\n",
       "                                 parent_id         type  \\\n",
       "1424  1e9723cb-a0dc-4a70-907b-f27a13849f63  enhancement   \n",
       "\n",
       "                                               metadata  \n",
       "1424  {'page': 109, 'title': 'Wall', 'children': [],...  "
      ]
     },
     "execution_count": 315,
     "metadata": {},
     "output_type": "execute_result"
    }
   ],
   "source": [
    "df = pd.DataFrame(items)\n",
    "df.loc[df.id == parent_id]"
   ]
  },
  {
   "cell_type": "code",
   "execution_count": 317,
   "id": "bc3b6723",
   "metadata": {},
   "outputs": [
    {
     "data": {
      "text/html": [
       "<div>\n",
       "<style scoped>\n",
       "    .dataframe tbody tr th:only-of-type {\n",
       "        vertical-align: middle;\n",
       "    }\n",
       "\n",
       "    .dataframe tbody tr th {\n",
       "        vertical-align: top;\n",
       "    }\n",
       "\n",
       "    .dataframe thead th {\n",
       "        text-align: right;\n",
       "    }\n",
       "</style>\n",
       "<table border=\"1\" class=\"dataframe\">\n",
       "  <thead>\n",
       "    <tr style=\"text-align: right;\">\n",
       "      <th></th>\n",
       "      <th>id</th>\n",
       "      <th>parent_id</th>\n",
       "      <th>type</th>\n",
       "      <th>metadata</th>\n",
       "    </tr>\n",
       "  </thead>\n",
       "  <tbody>\n",
       "    <tr>\n",
       "      <th>1290</th>\n",
       "      <td>e647503f-b68e-4cd2-809c-440ae720fa10</td>\n",
       "      <td>cfbf88dc-c7bb-4bc2-8434-2a28e50ae358</td>\n",
       "      <td>heading</td>\n",
       "      <td>{'page': 101, 'title': 'Modifiers', 'children'...</td>\n",
       "    </tr>\n",
       "  </tbody>\n",
       "</table>\n",
       "</div>"
      ],
      "text/plain": [
       "                                        id  \\\n",
       "1290  e647503f-b68e-4cd2-809c-440ae720fa10   \n",
       "\n",
       "                                 parent_id     type  \\\n",
       "1290  cfbf88dc-c7bb-4bc2-8434-2a28e50ae358  heading   \n",
       "\n",
       "                                               metadata  \n",
       "1290  {'page': 101, 'title': 'Modifiers', 'children'...  "
      ]
     },
     "execution_count": 317,
     "metadata": {},
     "output_type": "execute_result"
    }
   ],
   "source": [
    "# Only if needed\n",
    "parent_id = elevate_parent(items=items, parent_id=parent_id)\n",
    "df.loc[df.id == parent_id]"
   ]
  },
  {
   "cell_type": "code",
   "execution_count": 318,
   "id": "6d659f34",
   "metadata": {},
   "outputs": [],
   "source": [
    "item = add_heading(\n",
    "    title=title,\n",
    "    page=page,\n",
    "    items=items,\n",
    "    parent_id=parent_id)\n",
    "parent_id = item.id"
   ]
  },
  {
   "attachments": {},
   "cell_type": "markdown",
   "id": "70314d34",
   "metadata": {},
   "source": [
    "## Add List"
   ]
  },
  {
   "cell_type": "code",
   "execution_count": 97,
   "id": "e93b4b77",
   "metadata": {},
   "outputs": [],
   "source": [
    "text = \"\"\"Ability other than an attack or a\n",
    "defense. Your ability is not subject to\n",
    "the usual built-in restrictions. For\n",
    "instance, your Healing might cure otherwise\n",
    "“incurable” diseases, your\n",
    "Insubstantiality might allow you to\n",
    "penetrate barriers that would block\n",
    "other insubstantial beings, or your\n",
    "Shapeshifting might be immune to\n",
    "negation by external forces. +50%.\n",
    "\n",
    "Defense or countermeasure. Your\n",
    "defensive trait provides its usual benefits\n",
    "against offensive abilities modified\n",
    "with the Cosmic enhancement. +50%.\n",
    "\n",
    "Attack with a lingering special effect.\n",
    "Your attack has an enduring effect\n",
    "that only another Cosmic power can\n",
    "counteract; e.g., a burning Innate\n",
    "Attack that sets fires that water cannot\n",
    "extinguish, or a toxic Innate Attack\n",
    "that inflicts Cyclic (below) damage\n",
    "that medical technology cannot halt.\n",
    "This does not negate the target’s protection!\n",
    "DR still affects Innate Attack,\n",
    "a HT roll is still allowed for a\n",
    "Resistible (p. 115) attack, etc. +100%.\n",
    "\n",
    "Irresistible attack. Your attack does\n",
    "negate the target’s protection; e.g., an\n",
    "Innate Attack that ignores DR, or\n",
    "Mind Control that ignores Mind\n",
    "Shield. The target may still attempt an\n",
    "active defense against the attack, if\n",
    "applicable. You cannot combine this\n",
    "enhancement with other “penetration\n",
    "modifiers,” such as Follow-Up\n",
    "(p. 105). +300%.\"\"\""
   ]
  },
  {
   "cell_type": "code",
   "execution_count": 98,
   "id": "1bbee410",
   "metadata": {},
   "outputs": [
    {
     "data": {
      "text/plain": [
       "['Ability other than an attack or a defense. Your ability is not subject to the usual built-in restrictions. For instance, your Healing might cure otherwise “incurable” diseases, your Insubstantiality might allow you to penetrate barriers that would block other insubstantial beings, or your Shapeshifting might be immune to negation by external forces. +50%.',\n",
       " 'Defense or countermeasure. Your defensive trait provides its usual benefits against offensive abilities modified with the Cosmic enhancement. +50%.',\n",
       " 'Attack with a lingering special effect. Your attack has an enduring effect that only another Cosmic power can counteract; e.g., a burning Innate Attack that sets fires that water cannot extinguish, or a toxic Innate Attack that inflicts Cyclic (below) damage that medical technology cannot halt. This does not negate the target’s protection! DR still affects Innate Attack, a HT roll is still allowed for a Resistible (p. 115) attack, etc. +100%.',\n",
       " 'Irresistible attack. Your attack does negate the target’s protection; e.g., an Innate Attack that ignores DR, or Mind Control that ignores Mind Shield. The target may still attempt an active defense against the attack, if applicable. You cannot combine this enhancement with other “penetration modifiers,” such as Follow-Up (p. 105). +300%.']"
      ]
     },
     "execution_count": 98,
     "metadata": {},
     "output_type": "execute_result"
    }
   ],
   "source": [
    "parse_list(text)"
   ]
  },
  {
   "cell_type": "code",
   "execution_count": 99,
   "id": "f49b9a63",
   "metadata": {},
   "outputs": [],
   "source": [
    "item = add_list(text=text, items=items, parent_id=parent_id)"
   ]
  },
  {
   "attachments": {},
   "cell_type": "markdown",
   "id": "6a8e8714",
   "metadata": {},
   "source": [
    "## Add Info Box"
   ]
  },
  {
   "cell_type": "code",
   "execution_count": 42,
   "id": "ccbec7bc",
   "metadata": {},
   "outputs": [],
   "source": [
    "page = -1\n",
    "title = \"Turning Enhancements Off and On\""
   ]
  },
  {
   "cell_type": "code",
   "execution_count": 43,
   "id": "54b6493b",
   "metadata": {},
   "outputs": [
    {
     "data": {
      "text/html": [
       "<div>\n",
       "<style scoped>\n",
       "    .dataframe tbody tr th:only-of-type {\n",
       "        vertical-align: middle;\n",
       "    }\n",
       "\n",
       "    .dataframe tbody tr th {\n",
       "        vertical-align: top;\n",
       "    }\n",
       "\n",
       "    .dataframe thead th {\n",
       "        text-align: right;\n",
       "    }\n",
       "</style>\n",
       "<table border=\"1\" class=\"dataframe\">\n",
       "  <thead>\n",
       "    <tr style=\"text-align: right;\">\n",
       "      <th></th>\n",
       "      <th>id</th>\n",
       "      <th>parent_id</th>\n",
       "      <th>type</th>\n",
       "      <th>metadata</th>\n",
       "    </tr>\n",
       "  </thead>\n",
       "  <tbody>\n",
       "    <tr>\n",
       "      <th>1298</th>\n",
       "      <td>7e25415b-ed81-473d-9057-a81d0c22ef2b</td>\n",
       "      <td>1e9723cb-a0dc-4a70-907b-f27a13849f63</td>\n",
       "      <td>infobox</td>\n",
       "      <td>{'page': -1, 'title': 'Attack Enhancements and...</td>\n",
       "    </tr>\n",
       "  </tbody>\n",
       "</table>\n",
       "</div>"
      ],
      "text/plain": [
       "                                        id  \\\n",
       "1298  7e25415b-ed81-473d-9057-a81d0c22ef2b   \n",
       "\n",
       "                                 parent_id     type  \\\n",
       "1298  1e9723cb-a0dc-4a70-907b-f27a13849f63  infobox   \n",
       "\n",
       "                                               metadata  \n",
       "1298  {'page': -1, 'title': 'Attack Enhancements and...  "
      ]
     },
     "execution_count": 43,
     "metadata": {},
     "output_type": "execute_result"
    }
   ],
   "source": [
    "df = pd.DataFrame(items)\n",
    "df.loc[df.id == parent_id]"
   ]
  },
  {
   "cell_type": "code",
   "execution_count": 44,
   "id": "2431c4e7",
   "metadata": {},
   "outputs": [
    {
     "data": {
      "text/html": [
       "<div>\n",
       "<style scoped>\n",
       "    .dataframe tbody tr th:only-of-type {\n",
       "        vertical-align: middle;\n",
       "    }\n",
       "\n",
       "    .dataframe tbody tr th {\n",
       "        vertical-align: top;\n",
       "    }\n",
       "\n",
       "    .dataframe thead th {\n",
       "        text-align: right;\n",
       "    }\n",
       "</style>\n",
       "<table border=\"1\" class=\"dataframe\">\n",
       "  <thead>\n",
       "    <tr style=\"text-align: right;\">\n",
       "      <th></th>\n",
       "      <th>id</th>\n",
       "      <th>parent_id</th>\n",
       "      <th>type</th>\n",
       "      <th>metadata</th>\n",
       "    </tr>\n",
       "  </thead>\n",
       "  <tbody>\n",
       "    <tr>\n",
       "      <th>1296</th>\n",
       "      <td>1e9723cb-a0dc-4a70-907b-f27a13849f63</td>\n",
       "      <td>e647503f-b68e-4cd2-809c-440ae720fa10</td>\n",
       "      <td>heading</td>\n",
       "      <td>{'page': 102, 'title': 'Enhancements', 'childr...</td>\n",
       "    </tr>\n",
       "  </tbody>\n",
       "</table>\n",
       "</div>"
      ],
      "text/plain": [
       "                                        id  \\\n",
       "1296  1e9723cb-a0dc-4a70-907b-f27a13849f63   \n",
       "\n",
       "                                 parent_id     type  \\\n",
       "1296  e647503f-b68e-4cd2-809c-440ae720fa10  heading   \n",
       "\n",
       "                                               metadata  \n",
       "1296  {'page': 102, 'title': 'Enhancements', 'childr...  "
      ]
     },
     "execution_count": 44,
     "metadata": {},
     "output_type": "execute_result"
    }
   ],
   "source": [
    "# Only if needed\n",
    "parent_id = elevate_parent(items=items, parent_id=parent_id)\n",
    "df.loc[df.id == parent_id]"
   ]
  },
  {
   "cell_type": "code",
   "execution_count": 45,
   "id": "84214c32",
   "metadata": {},
   "outputs": [],
   "source": [
    "item = add_infobox(\n",
    "    title=title,\n",
    "    page=page,\n",
    "    items=items,\n",
    "    parent_id=parent_id)\n",
    "parent_id = item.id"
   ]
  },
  {
   "attachments": {},
   "cell_type": "markdown",
   "id": "39b16c0c",
   "metadata": {},
   "source": [
    "## Add Table"
   ]
  },
  {
   "cell_type": "code",
   "execution_count": 259,
   "id": "ea68e18c",
   "metadata": {},
   "outputs": [],
   "source": [
    "title = \"\"\n",
    "metadata = None\n",
    "text = \"\"\"RoF | Cost\n",
    "2 | +40%\n",
    "3 | +50%\n",
    "4-7 | +70%\n",
    "8-15 | +100%\n",
    "16-30 | +150%\n",
    "31-70 | +200%\n",
    "71-150 | +250%\n",
    "151-300 | +300%\n",
    "\"\"\""
   ]
  },
  {
   "cell_type": "code",
   "execution_count": 260,
   "id": "30f8e999",
   "metadata": {},
   "outputs": [
    {
     "data": {
      "text/html": [
       "<div>\n",
       "<style scoped>\n",
       "    .dataframe tbody tr th:only-of-type {\n",
       "        vertical-align: middle;\n",
       "    }\n",
       "\n",
       "    .dataframe tbody tr th {\n",
       "        vertical-align: top;\n",
       "    }\n",
       "\n",
       "    .dataframe thead th {\n",
       "        text-align: right;\n",
       "    }\n",
       "</style>\n",
       "<table border=\"1\" class=\"dataframe\">\n",
       "  <thead>\n",
       "    <tr style=\"text-align: right;\">\n",
       "      <th></th>\n",
       "      <th>RoF</th>\n",
       "      <th>Cost</th>\n",
       "    </tr>\n",
       "  </thead>\n",
       "  <tbody>\n",
       "    <tr>\n",
       "      <th>0</th>\n",
       "      <td>2</td>\n",
       "      <td>+40%</td>\n",
       "    </tr>\n",
       "    <tr>\n",
       "      <th>1</th>\n",
       "      <td>3</td>\n",
       "      <td>+50%</td>\n",
       "    </tr>\n",
       "    <tr>\n",
       "      <th>2</th>\n",
       "      <td>4-7</td>\n",
       "      <td>+70%</td>\n",
       "    </tr>\n",
       "    <tr>\n",
       "      <th>3</th>\n",
       "      <td>8-15</td>\n",
       "      <td>+100%</td>\n",
       "    </tr>\n",
       "    <tr>\n",
       "      <th>4</th>\n",
       "      <td>16-30</td>\n",
       "      <td>+150%</td>\n",
       "    </tr>\n",
       "    <tr>\n",
       "      <th>5</th>\n",
       "      <td>31-70</td>\n",
       "      <td>+200%</td>\n",
       "    </tr>\n",
       "    <tr>\n",
       "      <th>6</th>\n",
       "      <td>71-150</td>\n",
       "      <td>+250%</td>\n",
       "    </tr>\n",
       "    <tr>\n",
       "      <th>7</th>\n",
       "      <td>151-300</td>\n",
       "      <td>+300%</td>\n",
       "    </tr>\n",
       "  </tbody>\n",
       "</table>\n",
       "</div>"
      ],
      "text/plain": [
       "       RoF     Cost\n",
       "0        2     +40%\n",
       "1        3     +50%\n",
       "2      4-7     +70%\n",
       "3     8-15    +100%\n",
       "4    16-30    +150%\n",
       "5    31-70    +200%\n",
       "6   71-150    +250%\n",
       "7  151-300    +300%"
      ]
     },
     "execution_count": 260,
     "metadata": {},
     "output_type": "execute_result"
    }
   ],
   "source": [
    "pd.DataFrame(parse_table(text).to_dict())\n",
    "#pd.DataFrame(parse_table(text, header=[0, 1]).to_dict())"
   ]
  },
  {
   "cell_type": "code",
   "execution_count": 261,
   "id": "033bf8ce",
   "metadata": {},
   "outputs": [],
   "source": [
    "# Single line header\n",
    "item = add_table(text=text, items=items, parent_id=parent_id)\n",
    "#item = add_table(title=title, text=text, items=items, parent_id=parent_id)"
   ]
  },
  {
   "cell_type": "code",
   "execution_count": 246,
   "id": "5a9b2adf",
   "metadata": {},
   "outputs": [],
   "source": [
    "# Multi-row header\n",
    "item = add_table(text=text, items=items, parent_id=parent_id, header=[0, 1])"
   ]
  },
  {
   "attachments": {},
   "cell_type": "markdown",
   "id": "f2ed4e1c-b51e-45e1-a9d5-fc6473e48ddb",
   "metadata": {
    "jp-MarkdownHeadingCollapsed": true,
    "tags": []
   },
   "source": [
    "## Add Attribute"
   ]
  },
  {
   "cell_type": "code",
   "execution_count": 755,
   "id": "27a01066-00cf-49b3-a217-7a1affc95b00",
   "metadata": {},
   "outputs": [],
   "source": [
    "page = 29\n",
    "text = \"Rank\"\n",
    "cost = \"5 or 10 point/level\""
   ]
  },
  {
   "cell_type": "code",
   "execution_count": 756,
   "id": "dc49b49d",
   "metadata": {},
   "outputs": [
    {
     "data": {
      "text/html": [
       "<div>\n",
       "<style scoped>\n",
       "    .dataframe tbody tr th:only-of-type {\n",
       "        vertical-align: middle;\n",
       "    }\n",
       "\n",
       "    .dataframe tbody tr th {\n",
       "        vertical-align: top;\n",
       "    }\n",
       "\n",
       "    .dataframe thead th {\n",
       "        text-align: right;\n",
       "    }\n",
       "</style>\n",
       "<table border=\"1\" class=\"dataframe\">\n",
       "  <thead>\n",
       "    <tr style=\"text-align: right;\">\n",
       "      <th></th>\n",
       "      <th>id</th>\n",
       "      <th>parent_id</th>\n",
       "      <th>type</th>\n",
       "      <th>metadata</th>\n",
       "    </tr>\n",
       "  </thead>\n",
       "  <tbody>\n",
       "    <tr>\n",
       "      <th>281</th>\n",
       "      <td>2745f0b6-5f84-4e34-9968-aa52b5b95745</td>\n",
       "      <td>e99f893a-6ad9-4a31-a8b6-217c6c457fd5</td>\n",
       "      <td>heading</td>\n",
       "      <td>{'page': 29, 'title': 'Recognizing Status', 'c...</td>\n",
       "    </tr>\n",
       "  </tbody>\n",
       "</table>\n",
       "</div>"
      ],
      "text/plain": [
       "                                       id  \\\n",
       "281  2745f0b6-5f84-4e34-9968-aa52b5b95745   \n",
       "\n",
       "                                parent_id     type  \\\n",
       "281  e99f893a-6ad9-4a31-a8b6-217c6c457fd5  heading   \n",
       "\n",
       "                                              metadata  \n",
       "281  {'page': 29, 'title': 'Recognizing Status', 'c...  "
      ]
     },
     "execution_count": 756,
     "metadata": {},
     "output_type": "execute_result"
    }
   ],
   "source": [
    "df = pd.DataFrame(items)\n",
    "df.loc[df.id == parent_id]"
   ]
  },
  {
   "cell_type": "code",
   "execution_count": 758,
   "id": "bc66c7e7",
   "metadata": {},
   "outputs": [
    {
     "data": {
      "text/html": [
       "<div>\n",
       "<style scoped>\n",
       "    .dataframe tbody tr th:only-of-type {\n",
       "        vertical-align: middle;\n",
       "    }\n",
       "\n",
       "    .dataframe tbody tr th {\n",
       "        vertical-align: top;\n",
       "    }\n",
       "\n",
       "    .dataframe thead th {\n",
       "        text-align: right;\n",
       "    }\n",
       "</style>\n",
       "<table border=\"1\" class=\"dataframe\">\n",
       "  <thead>\n",
       "    <tr style=\"text-align: right;\">\n",
       "      <th></th>\n",
       "      <th>id</th>\n",
       "      <th>parent_id</th>\n",
       "      <th>type</th>\n",
       "      <th>metadata</th>\n",
       "    </tr>\n",
       "  </thead>\n",
       "  <tbody>\n",
       "    <tr>\n",
       "      <th>270</th>\n",
       "      <td>f98d999e-8011-4dc9-8a83-a1083cde6c8a</td>\n",
       "      <td>48435dc1-9c23-46a1-bb93-299f0dc7d970</td>\n",
       "      <td>heading</td>\n",
       "      <td>{'page': 28, 'title': 'Importance', 'children'...</td>\n",
       "    </tr>\n",
       "  </tbody>\n",
       "</table>\n",
       "</div>"
      ],
      "text/plain": [
       "                                       id  \\\n",
       "270  f98d999e-8011-4dc9-8a83-a1083cde6c8a   \n",
       "\n",
       "                                parent_id     type  \\\n",
       "270  48435dc1-9c23-46a1-bb93-299f0dc7d970  heading   \n",
       "\n",
       "                                              metadata  \n",
       "270  {'page': 28, 'title': 'Importance', 'children'...  "
      ]
     },
     "execution_count": 758,
     "metadata": {},
     "output_type": "execute_result"
    }
   ],
   "source": [
    "# Only if needed\n",
    "parent_id = elevate_parent(items=items, parent_id=parent_id)\n",
    "df.loc[df.id == parent_id]"
   ]
  },
  {
   "cell_type": "code",
   "execution_count": 759,
   "id": "bbdffc0a",
   "metadata": {},
   "outputs": [],
   "source": [
    "item = add_attribute(text=text, cost=cost, items=items, parent_id=parent_id, page=page)\n",
    "parent_id = item.id"
   ]
  },
  {
   "attachments": {},
   "cell_type": "markdown",
   "id": "812eb5a4",
   "metadata": {},
   "source": [
    "## Add Advantage"
   ]
  },
  {
   "cell_type": "code",
   "execution_count": 11,
   "id": "58bf4f74",
   "metadata": {},
   "outputs": [
    {
     "data": {
      "text/html": [
       "<div>\n",
       "<style scoped>\n",
       "    .dataframe tbody tr th:only-of-type {\n",
       "        vertical-align: middle;\n",
       "    }\n",
       "\n",
       "    .dataframe tbody tr th {\n",
       "        vertical-align: top;\n",
       "    }\n",
       "\n",
       "    .dataframe thead th {\n",
       "        text-align: right;\n",
       "    }\n",
       "</style>\n",
       "<table border=\"1\" class=\"dataframe\">\n",
       "  <thead>\n",
       "    <tr style=\"text-align: right;\">\n",
       "      <th></th>\n",
       "      <th>id</th>\n",
       "      <th>parent_id</th>\n",
       "      <th>type</th>\n",
       "      <th>metadata</th>\n",
       "    </tr>\n",
       "  </thead>\n",
       "  <tbody>\n",
       "    <tr>\n",
       "      <th>324</th>\n",
       "      <td>51e5ac62-03ae-4143-b096-1f3c95ce0f75</td>\n",
       "      <td>cfbf88dc-c7bb-4bc2-8434-2a28e50ae358</td>\n",
       "      <td>heading</td>\n",
       "      <td>{'page': 34, 'title': 'Advantage List', 'child...</td>\n",
       "    </tr>\n",
       "  </tbody>\n",
       "</table>\n",
       "</div>"
      ],
      "text/plain": [
       "                                       id  \\\n",
       "324  51e5ac62-03ae-4143-b096-1f3c95ce0f75   \n",
       "\n",
       "                                parent_id     type  \\\n",
       "324  cfbf88dc-c7bb-4bc2-8434-2a28e50ae358  heading   \n",
       "\n",
       "                                              metadata  \n",
       "324  {'page': 34, 'title': 'Advantage List', 'child...  "
      ]
     },
     "execution_count": 11,
     "metadata": {},
     "output_type": "execute_result"
    }
   ],
   "source": [
    "advantage_list_id = UUID('51e5ac62-03ae-4143-b096-1f3c95ce0f75')\n",
    "df = pd.DataFrame(items)\n",
    "df.loc[df.id == advantage_list_id]"
   ]
  },
  {
   "cell_type": "code",
   "execution_count": 919,
   "id": "4eb953c5",
   "metadata": {},
   "outputs": [],
   "source": [
    "page = 100\n",
    "text = \"Zeroed\"\n",
    "types = [\"social\"]\n",
    "cost = \"10 points\"\n",
    "\n",
    "p = \"\"\"\"\"\""
   ]
  },
  {
   "cell_type": "code",
   "execution_count": 920,
   "id": "36a66efb",
   "metadata": {},
   "outputs": [],
   "source": [
    "item = add_advantage(text=text, cost=cost, types=types, items=items, parent_id=advantage_list_id, page=page)\n",
    "parent_id = item.id"
   ]
  },
  {
   "cell_type": "code",
   "execution_count": 921,
   "id": "bd66ef08",
   "metadata": {},
   "outputs": [],
   "source": [
    "item = add_paragraphs(text=p, items=items, parent_id=parent_id)"
   ]
  },
  {
   "attachments": {},
   "cell_type": "markdown",
   "id": "ff23c233",
   "metadata": {},
   "source": [
    "## Add Perk"
   ]
  },
  {
   "cell_type": "code",
   "execution_count": 935,
   "id": "2f781057",
   "metadata": {},
   "outputs": [
    {
     "data": {
      "text/html": [
       "<div>\n",
       "<style scoped>\n",
       "    .dataframe tbody tr th:only-of-type {\n",
       "        vertical-align: middle;\n",
       "    }\n",
       "\n",
       "    .dataframe tbody tr th {\n",
       "        vertical-align: top;\n",
       "    }\n",
       "\n",
       "    .dataframe thead th {\n",
       "        text-align: right;\n",
       "    }\n",
       "</style>\n",
       "<table border=\"1\" class=\"dataframe\">\n",
       "  <thead>\n",
       "    <tr style=\"text-align: right;\">\n",
       "      <th></th>\n",
       "      <th>id</th>\n",
       "      <th>parent_id</th>\n",
       "      <th>type</th>\n",
       "      <th>metadata</th>\n",
       "    </tr>\n",
       "  </thead>\n",
       "  <tbody>\n",
       "    <tr>\n",
       "      <th>1268</th>\n",
       "      <td>4ddceb7f-de58-42be-9ce1-ff7987da5333</td>\n",
       "      <td>51e5ac62-03ae-4143-b096-1f3c95ce0f75</td>\n",
       "      <td>heading</td>\n",
       "      <td>{'page': 100, 'title': 'Perk', 'children': []}</td>\n",
       "    </tr>\n",
       "  </tbody>\n",
       "</table>\n",
       "</div>"
      ],
      "text/plain": [
       "                                        id  \\\n",
       "1268  4ddceb7f-de58-42be-9ce1-ff7987da5333   \n",
       "\n",
       "                                 parent_id     type  \\\n",
       "1268  51e5ac62-03ae-4143-b096-1f3c95ce0f75  heading   \n",
       "\n",
       "                                            metadata  \n",
       "1268  {'page': 100, 'title': 'Perk', 'children': []}  "
      ]
     },
     "execution_count": 935,
     "metadata": {},
     "output_type": "execute_result"
    }
   ],
   "source": [
    "perk_list_id = UUID('4ddceb7f-de58-42be-9ce1-ff7987da5333')\n",
    "df = pd.DataFrame(items)\n",
    "df.loc[df.id == perk_list_id]"
   ]
  },
  {
   "cell_type": "code",
   "execution_count": 963,
   "id": "6db7f115",
   "metadata": {},
   "outputs": [],
   "source": [
    "page = 101\n",
    "text = \"Shtick\"\n",
    "types = [\"mental\", \"physical\"]\n",
    "\n",
    "p = \"\"\"\n",
    "\"\"\""
   ]
  },
  {
   "cell_type": "code",
   "execution_count": 964,
   "id": "2e7c236d",
   "metadata": {},
   "outputs": [],
   "source": [
    "item = add_perk(text=text, types=types, items=items, parent_id=perk_list_id, page=page)\n",
    "parent_id = item.id"
   ]
  },
  {
   "cell_type": "code",
   "execution_count": 965,
   "id": "a93a78a3",
   "metadata": {},
   "outputs": [],
   "source": [
    "item = add_paragraphs(text=p, items=items, parent_id=parent_id)"
   ]
  },
  {
   "attachments": {},
   "cell_type": "markdown",
   "id": "bf1af408",
   "metadata": {},
   "source": [
    "## Add Enhancement"
   ]
  },
  {
   "cell_type": "code",
   "execution_count": 51,
   "id": "08360bd4",
   "metadata": {},
   "outputs": [
    {
     "data": {
      "text/html": [
       "<div>\n",
       "<style scoped>\n",
       "    .dataframe tbody tr th:only-of-type {\n",
       "        vertical-align: middle;\n",
       "    }\n",
       "\n",
       "    .dataframe tbody tr th {\n",
       "        vertical-align: top;\n",
       "    }\n",
       "\n",
       "    .dataframe thead th {\n",
       "        text-align: right;\n",
       "    }\n",
       "</style>\n",
       "<table border=\"1\" class=\"dataframe\">\n",
       "  <thead>\n",
       "    <tr style=\"text-align: right;\">\n",
       "      <th></th>\n",
       "      <th>id</th>\n",
       "      <th>parent_id</th>\n",
       "      <th>type</th>\n",
       "      <th>metadata</th>\n",
       "    </tr>\n",
       "  </thead>\n",
       "  <tbody>\n",
       "    <tr>\n",
       "      <th>1296</th>\n",
       "      <td>1e9723cb-a0dc-4a70-907b-f27a13849f63</td>\n",
       "      <td>e647503f-b68e-4cd2-809c-440ae720fa10</td>\n",
       "      <td>heading</td>\n",
       "      <td>{'page': 102, 'title': 'Enhancements', 'childr...</td>\n",
       "    </tr>\n",
       "  </tbody>\n",
       "</table>\n",
       "</div>"
      ],
      "text/plain": [
       "                                        id  \\\n",
       "1296  1e9723cb-a0dc-4a70-907b-f27a13849f63   \n",
       "\n",
       "                                 parent_id     type  \\\n",
       "1296  e647503f-b68e-4cd2-809c-440ae720fa10  heading   \n",
       "\n",
       "                                               metadata  \n",
       "1296  {'page': 102, 'title': 'Enhancements', 'childr...  "
      ]
     },
     "execution_count": 51,
     "metadata": {},
     "output_type": "execute_result"
    }
   ],
   "source": [
    "enhancement_list_id = UUID('1e9723cb-a0dc-4a70-907b-f27a13849f63')\n",
    "df = pd.DataFrame(items)\n",
    "df.loc[df.id == enhancement_list_id]"
   ]
  },
  {
   "cell_type": "code",
   "execution_count": 305,
   "id": "a27dbe58",
   "metadata": {},
   "outputs": [],
   "source": [
    "page = 109\n",
    "text = \"Wall\"\n",
    "types = [\"attack enhancement\"]\n",
    "cost = \"+30% or +60%\"\n",
    "p = \"\"\"\"\"\""
   ]
  },
  {
   "cell_type": "code",
   "execution_count": 306,
   "id": "48245b14",
   "metadata": {},
   "outputs": [],
   "source": [
    "item = add_enhancement(text=text, cost=cost, types=types, items=items, parent_id=enhancement_list_id, page=page)\n",
    "parent_id = item.id"
   ]
  },
  {
   "cell_type": "code",
   "execution_count": 307,
   "id": "d32b759c",
   "metadata": {},
   "outputs": [],
   "source": [
    "item = add_paragraphs(text=p, items=items, parent_id=parent_id)"
   ]
  },
  {
   "attachments": {},
   "cell_type": "markdown",
   "id": "4fbd39af",
   "metadata": {},
   "source": [
    "## Add Limitation"
   ]
  },
  {
   "cell_type": "code",
   "execution_count": null,
   "id": "c5280ea2",
   "metadata": {},
   "outputs": [
    {
     "data": {
      "text/html": [
       "<div>\n",
       "<style scoped>\n",
       "    .dataframe tbody tr th:only-of-type {\n",
       "        vertical-align: middle;\n",
       "    }\n",
       "\n",
       "    .dataframe tbody tr th {\n",
       "        vertical-align: top;\n",
       "    }\n",
       "\n",
       "    .dataframe thead th {\n",
       "        text-align: right;\n",
       "    }\n",
       "</style>\n",
       "<table border=\"1\" class=\"dataframe\">\n",
       "  <thead>\n",
       "    <tr style=\"text-align: right;\">\n",
       "      <th></th>\n",
       "      <th>id</th>\n",
       "      <th>parent_id</th>\n",
       "      <th>type</th>\n",
       "      <th>metadata</th>\n",
       "    </tr>\n",
       "  </thead>\n",
       "  <tbody>\n",
       "    <tr>\n",
       "      <th>1296</th>\n",
       "      <td>1e9723cb-a0dc-4a70-907b-f27a13849f63</td>\n",
       "      <td>e647503f-b68e-4cd2-809c-440ae720fa10</td>\n",
       "      <td>heading</td>\n",
       "      <td>{'page': 102, 'title': 'Enhancements', 'childr...</td>\n",
       "    </tr>\n",
       "  </tbody>\n",
       "</table>\n",
       "</div>"
      ],
      "text/plain": [
       "                                        id  \\\n",
       "1296  1e9723cb-a0dc-4a70-907b-f27a13849f63   \n",
       "\n",
       "                                 parent_id     type  \\\n",
       "1296  e647503f-b68e-4cd2-809c-440ae720fa10  heading   \n",
       "\n",
       "                                               metadata  \n",
       "1296  {'page': 102, 'title': 'Enhancements', 'childr...  "
      ]
     },
     "metadata": {},
     "output_type": "display_data"
    }
   ],
   "source": [
    "enhancement_list_id = UUID('1e9723cb-a0dc-4a70-907b-f27a13849f63')\n",
    "df = pd.DataFrame(items)\n",
    "df.loc[df.id == enhancement_list_id]"
   ]
  },
  {
   "cell_type": "code",
   "execution_count": null,
   "id": "1cd09007",
   "metadata": {},
   "outputs": [],
   "source": [
    "page = 109\n",
    "text = \"Wall\"\n",
    "types = [\"attack enhancement\"]\n",
    "cost = \"+30% or +60%\"\n",
    "p = \"\"\"\"\"\""
   ]
  },
  {
   "cell_type": "code",
   "execution_count": null,
   "id": "7c661fa0",
   "metadata": {},
   "outputs": [],
   "source": [
    "item = add_enhancement(text=text, cost=cost, types=types, items=items, parent_id=enhancement_list_id, page=page)\n",
    "parent_id = item.id"
   ]
  },
  {
   "cell_type": "code",
   "execution_count": null,
   "id": "e9fa6147",
   "metadata": {},
   "outputs": [],
   "source": [
    "item = add_paragraphs(text=p, items=items, parent_id=parent_id)"
   ]
  },
  {
   "attachments": {},
   "cell_type": "markdown",
   "id": "b18702c0",
   "metadata": {},
   "source": [
    "## Add Special"
   ]
  },
  {
   "cell_type": "code",
   "execution_count": 308,
   "id": "e057ddd3",
   "metadata": {},
   "outputs": [],
   "source": [
    "text = \"\"\"Permeable: The wall is composed of\n",
    "liquid, gas, energy, or an amorphous\n",
    "solid (e.g., thorn bushes). It impedes\n",
    "vision, and inflicts damage on anyone\n",
    "who attempts to cross it, but an\n",
    "intruder can traverse it provided he is\n",
    "not stunned, knocked out, killed, etc.\n",
    "by its effects. Anything effective\n",
    "against the substance of the wall will\n",
    "disperse it; e.g., water or a fire extinguisher\n",
    "could extinguish a wall of fire.\n",
    "\n",
    "Rigid: The wall is a material barrier.\n",
    "This is only possible for Innate Attacks\n",
    "that deal crushing, cutting, impaling,\n",
    "or piercing damage. Each yard of wall\n",
    "has DR 3 and 1/2 HP per die of damage\n",
    "(round up); e.g., a 6d attack produces a\n",
    "wall with DR 18 and 3 HP. The wall\n",
    "does no damage itself, but the damage\n",
    "type applies to the injury inflicted on\n",
    "anyone crashing into it.\"\"\""
   ]
  },
  {
   "cell_type": "code",
   "execution_count": 189,
   "id": "7412f346",
   "metadata": {},
   "outputs": [
    {
     "data": {
      "text/html": [
       "<div>\n",
       "<style scoped>\n",
       "    .dataframe tbody tr th:only-of-type {\n",
       "        vertical-align: middle;\n",
       "    }\n",
       "\n",
       "    .dataframe tbody tr th {\n",
       "        vertical-align: top;\n",
       "    }\n",
       "\n",
       "    .dataframe thead th {\n",
       "        text-align: right;\n",
       "    }\n",
       "</style>\n",
       "<table border=\"1\" class=\"dataframe\">\n",
       "  <thead>\n",
       "    <tr style=\"text-align: right;\">\n",
       "      <th></th>\n",
       "      <th>id</th>\n",
       "      <th>parent_id</th>\n",
       "      <th>type</th>\n",
       "      <th>metadata</th>\n",
       "    </tr>\n",
       "  </thead>\n",
       "  <tbody>\n",
       "    <tr>\n",
       "      <th>1357</th>\n",
       "      <td>59f6f8e0-7a8d-4b1c-918a-5a91d2e90889</td>\n",
       "      <td>2a7b94e6-37cb-4fd6-b177-a977171ed83a</td>\n",
       "      <td>heading</td>\n",
       "      <td>{'page': 104, 'title': 'Surge (sur)', 'childre...</td>\n",
       "    </tr>\n",
       "  </tbody>\n",
       "</table>\n",
       "</div>"
      ],
      "text/plain": [
       "                                        id  \\\n",
       "1357  59f6f8e0-7a8d-4b1c-918a-5a91d2e90889   \n",
       "\n",
       "                                 parent_id     type  \\\n",
       "1357  2a7b94e6-37cb-4fd6-b177-a977171ed83a  heading   \n",
       "\n",
       "                                               metadata  \n",
       "1357  {'page': 104, 'title': 'Surge (sur)', 'childre...  "
      ]
     },
     "execution_count": 189,
     "metadata": {},
     "output_type": "execute_result"
    }
   ],
   "source": [
    "df = pd.DataFrame(items)\n",
    "df.loc[df.id == parent_id]"
   ]
  },
  {
   "cell_type": "code",
   "execution_count": 190,
   "id": "92cefa69",
   "metadata": {},
   "outputs": [
    {
     "data": {
      "text/html": [
       "<div>\n",
       "<style scoped>\n",
       "    .dataframe tbody tr th:only-of-type {\n",
       "        vertical-align: middle;\n",
       "    }\n",
       "\n",
       "    .dataframe tbody tr th {\n",
       "        vertical-align: top;\n",
       "    }\n",
       "\n",
       "    .dataframe thead th {\n",
       "        text-align: right;\n",
       "    }\n",
       "</style>\n",
       "<table border=\"1\" class=\"dataframe\">\n",
       "  <thead>\n",
       "    <tr style=\"text-align: right;\">\n",
       "      <th></th>\n",
       "      <th>id</th>\n",
       "      <th>parent_id</th>\n",
       "      <th>type</th>\n",
       "      <th>metadata</th>\n",
       "    </tr>\n",
       "  </thead>\n",
       "  <tbody>\n",
       "    <tr>\n",
       "      <th>1333</th>\n",
       "      <td>2a7b94e6-37cb-4fd6-b177-a977171ed83a</td>\n",
       "      <td>1e9723cb-a0dc-4a70-907b-f27a13849f63</td>\n",
       "      <td>enhancement</td>\n",
       "      <td>{'page': 104, 'title': 'Damage Modifiers', 'ch...</td>\n",
       "    </tr>\n",
       "  </tbody>\n",
       "</table>\n",
       "</div>"
      ],
      "text/plain": [
       "                                        id  \\\n",
       "1333  2a7b94e6-37cb-4fd6-b177-a977171ed83a   \n",
       "\n",
       "                                 parent_id         type  \\\n",
       "1333  1e9723cb-a0dc-4a70-907b-f27a13849f63  enhancement   \n",
       "\n",
       "                                               metadata  \n",
       "1333  {'page': 104, 'title': 'Damage Modifiers', 'ch...  "
      ]
     },
     "execution_count": 190,
     "metadata": {},
     "output_type": "execute_result"
    }
   ],
   "source": [
    "# Only if needed\n",
    "parent_id = elevate_parent(items=items, parent_id=parent_id)\n",
    "df.loc[df.id == parent_id]"
   ]
  },
  {
   "cell_type": "code",
   "execution_count": 183,
   "id": "0c786f3c",
   "metadata": {},
   "outputs": [],
   "source": [
    "item = add_heading(\n",
    "    title=title,\n",
    "    page=page,\n",
    "    items=items,\n",
    "    parent_id=parent_id)\n",
    "parent_id = item.id"
   ]
  },
  {
   "cell_type": "code",
   "execution_count": 309,
   "id": "a54dd53f",
   "metadata": {},
   "outputs": [
    {
     "data": {
      "text/plain": [
       "[{'Permeable': 'The wall is composed of liquid, gas, energy, or an amorphous solid (e.g., thorn bushes). It impedes vision, and inflicts damage on anyone who attempts to cross it, but an intruder can traverse it provided he is not stunned, knocked out, killed, etc. by its effects. Anything effective against the substance of the wall will disperse it; e.g., water or a fire extinguisher could extinguish a wall of fire.'},\n",
       " {'Rigid': 'The wall is a material barrier. This is only possible for Innate Attacks that deal crushing, cutting, impaling, or piercing damage. Each yard of wall has DR 3 and 1/2 HP per die of damage (round up); e.g., a 6d attack produces a wall with DR 18 and 3 HP. The wall does no damage itself, but the damage type applies to the injury inflicted on anyone crashing into it.'}]"
      ]
     },
     "execution_count": 309,
     "metadata": {},
     "output_type": "execute_result"
    }
   ],
   "source": [
    "parse_list(text)"
   ]
  },
  {
   "cell_type": "code",
   "execution_count": 310,
   "id": "b11817b4",
   "metadata": {},
   "outputs": [],
   "source": [
    "item = add_list(text=text, items=items, parent_id=parent_id)"
   ]
  },
  {
   "cell_type": "code",
   "execution_count": 298,
   "id": "a29555ee",
   "metadata": {},
   "outputs": [],
   "source": [
    "item = add_paragraphs(text=text, items=items, parent_id=parent_id)"
   ]
  }
 ],
 "metadata": {
  "kernelspec": {
   "display_name": "Python 3.11.1 64-bit",
   "language": "python",
   "name": "python3"
  },
  "language_info": {
   "codemirror_mode": {
    "name": "ipython",
    "version": 3
   },
   "file_extension": ".py",
   "mimetype": "text/x-python",
   "name": "python",
   "nbconvert_exporter": "python",
   "pygments_lexer": "ipython3",
   "version": "3.11.1"
  },
  "vscode": {
   "interpreter": {
    "hash": "90cfd13c092c1551a6e1c264d268d88c890582d9beffc4141c98e9966645be44"
   }
  }
 },
 "nbformat": 4,
 "nbformat_minor": 5
}
