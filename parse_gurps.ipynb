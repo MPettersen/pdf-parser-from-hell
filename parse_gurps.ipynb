{
 "cells": [
  {
   "cell_type": "code",
   "execution_count": 1,
   "id": "cfba6f6c",
   "metadata": {},
   "outputs": [],
   "source": [
    "%load_ext autoreload\n",
    "%autoreload 2"
   ]
  },
  {
   "cell_type": "code",
   "execution_count": 2,
   "id": "0762d8e4-2b93-4f92-97c2-2b9d8c2bb380",
   "metadata": {},
   "outputs": [],
   "source": [
    "import pandas as pd\n",
    "\n",
    "from pprint import pp\n",
    "from io import StringIO\n",
    "from uuid import UUID, uuid4\n",
    "from joblib import dump, load\n",
    "from dataclasses import make_dataclass, field"
   ]
  },
  {
   "cell_type": "code",
   "execution_count": 3,
   "id": "069dffe2",
   "metadata": {},
   "outputs": [],
   "source": [
    "pd.set_option('display.max_rows', 50)\n",
    "pd.set_option('display.max_columns', None)"
   ]
  },
  {
   "cell_type": "code",
   "execution_count": 4,
   "id": "feb55e88-fd88-4a3a-9d76-82b1b72d357d",
   "metadata": {},
   "outputs": [],
   "source": [
    "from models import (\n",
    "    Item,\n",
    "    Book,\n",
    "    Advantage,\n",
    "    Disadvantage,\n",
    "    List,\n",
    "    Chapter,\n",
    "    Paragraphs,\n",
    "    Table,\n",
    "    Attribute\n",
    ")"
   ]
  },
  {
   "cell_type": "code",
   "execution_count": 5,
   "id": "a02771a2-0498-4843-bd67-fbc8b7a6ff1f",
   "metadata": {},
   "outputs": [],
   "source": [
    "from parsers import (\n",
    "    parse_paragraphs,\n",
    "    parse_list,\n",
    "    line_start_with_number_dot,\n",
    "    parse_table,\n",
    "    parse_dot_list,\n",
    "    split_list,\n",
    "    parse_number_list\n",
    ")"
   ]
  },
  {
   "cell_type": "code",
   "execution_count": 23,
   "id": "c42d64de",
   "metadata": {},
   "outputs": [],
   "source": [
    "from utils.utils import (\n",
    "    save_df,\n",
    "    load_items,\n",
    "    get_parent_type,\n",
    "    new_book,\n",
    "    add_chapter,\n",
    "    add_paragraphs,\n",
    "    add_heading,\n",
    "    elevate_parent,\n",
    "    add_list,\n",
    "    add_infobox,\n",
    "    add_table,\n",
    "    add_attribute,\n",
    "    add_special_limitation\n",
    ")"
   ]
  },
  {
   "attachments": {},
   "cell_type": "markdown",
   "id": "feab9ab8",
   "metadata": {},
   "source": [
    "# New data model"
   ]
  },
  {
   "cell_type": "code",
   "execution_count": 14,
   "id": "5f0d9c5d",
   "metadata": {},
   "outputs": [],
   "source": [
    "items = []"
   ]
  },
  {
   "attachments": {},
   "cell_type": "markdown",
   "id": "97d399c6",
   "metadata": {},
   "source": [
    "# Load data model"
   ]
  },
  {
   "cell_type": "code",
   "execution_count": 7,
   "id": "07fc2eec",
   "metadata": {},
   "outputs": [],
   "source": [
    "items = load_items(title=\"df\")"
   ]
  },
  {
   "cell_type": "code",
   "execution_count": 9,
   "id": "afbeb8af",
   "metadata": {},
   "outputs": [],
   "source": [
    "book_id = items[0].id"
   ]
  },
  {
   "cell_type": "code",
   "execution_count": 10,
   "id": "11e6c009",
   "metadata": {},
   "outputs": [],
   "source": [
    "parent_id = items[-1].parent_id"
   ]
  },
  {
   "attachments": {},
   "cell_type": "markdown",
   "id": "64dce0ec",
   "metadata": {},
   "source": [
    "## Check Items"
   ]
  },
  {
   "cell_type": "code",
   "execution_count": 537,
   "id": "eb91c42b",
   "metadata": {},
   "outputs": [
    {
     "data": {
      "text/plain": [
       "Item(id=UUID('75ea0e73-f4ec-4a17-9a7f-746fd4e8a0ed'), parent_id=UUID('3a7889e0-8338-4cec-8009-6fcc4a5c3615'), type='paragraphs', metadata={'page': -1, 'content': ['Your written comprehension level determines your degree of literacy in that language:']})"
      ]
     },
     "execution_count": 537,
     "metadata": {},
     "output_type": "execute_result"
    }
   ],
   "source": [
    "items.pop()"
   ]
  },
  {
   "cell_type": "code",
   "execution_count": 765,
   "id": "8ac1e87c",
   "metadata": {},
   "outputs": [
    {
     "data": {
      "text/html": [
       "<div>\n",
       "<style scoped>\n",
       "    .dataframe tbody tr th:only-of-type {\n",
       "        vertical-align: middle;\n",
       "    }\n",
       "\n",
       "    .dataframe tbody tr th {\n",
       "        vertical-align: top;\n",
       "    }\n",
       "\n",
       "    .dataframe thead th {\n",
       "        text-align: right;\n",
       "    }\n",
       "</style>\n",
       "<table border=\"1\" class=\"dataframe\">\n",
       "  <thead>\n",
       "    <tr style=\"text-align: right;\">\n",
       "      <th></th>\n",
       "      <th>id</th>\n",
       "      <th>parent_id</th>\n",
       "      <th>type</th>\n",
       "      <th>metadata</th>\n",
       "    </tr>\n",
       "  </thead>\n",
       "  <tbody>\n",
       "    <tr>\n",
       "      <th>0</th>\n",
       "      <td>1e796d10-9718-4d54-b89d-2e31b2ee6645</td>\n",
       "      <td>1e796d10-9718-4d54-b89d-2e31b2ee6645</td>\n",
       "      <td>book</td>\n",
       "      <td>{'title': 'Basic Set - Characters'}</td>\n",
       "    </tr>\n",
       "    <tr>\n",
       "      <th>1</th>\n",
       "      <td>b460eb3f-a59b-493a-9230-f3d21f75c76b</td>\n",
       "      <td>1e796d10-9718-4d54-b89d-2e31b2ee6645</td>\n",
       "      <td>chapter</td>\n",
       "      <td>{'page': 5, 'title': 'Introduction', 'children...</td>\n",
       "    </tr>\n",
       "    <tr>\n",
       "      <th>2</th>\n",
       "      <td>7ae2d188-3106-4a82-9a54-b4e41efe2f1d</td>\n",
       "      <td>b460eb3f-a59b-493a-9230-f3d21f75c76b</td>\n",
       "      <td>paragraphs</td>\n",
       "      <td>{'page': -1, 'content': ['GURPS stands for “Ge...</td>\n",
       "    </tr>\n",
       "    <tr>\n",
       "      <th>3</th>\n",
       "      <td>f9fe638f-c21f-4f4e-9327-43b7491470e4</td>\n",
       "      <td>b460eb3f-a59b-493a-9230-f3d21f75c76b</td>\n",
       "      <td>paragraphs</td>\n",
       "      <td>{'page': -1, 'content': ['“Generic.” Some peop...</td>\n",
       "    </tr>\n",
       "    <tr>\n",
       "      <th>4</th>\n",
       "      <td>31198d32-fc2a-4b92-be04-840a094d9ed3</td>\n",
       "      <td>b460eb3f-a59b-493a-9230-f3d21f75c76b</td>\n",
       "      <td>paragraphs</td>\n",
       "      <td>{'page': -1, 'content': ['GURPS has been in pr...</td>\n",
       "    </tr>\n",
       "    <tr>\n",
       "      <th>...</th>\n",
       "      <td>...</td>\n",
       "      <td>...</td>\n",
       "      <td>...</td>\n",
       "      <td>...</td>\n",
       "    </tr>\n",
       "    <tr>\n",
       "      <th>281</th>\n",
       "      <td>2745f0b6-5f84-4e34-9968-aa52b5b95745</td>\n",
       "      <td>e99f893a-6ad9-4a31-a8b6-217c6c457fd5</td>\n",
       "      <td>heading</td>\n",
       "      <td>{'page': 29, 'title': 'Recognizing Status', 'c...</td>\n",
       "    </tr>\n",
       "    <tr>\n",
       "      <th>282</th>\n",
       "      <td>fbf661dd-584a-4db2-b2f8-00702d09b95a</td>\n",
       "      <td>2745f0b6-5f84-4e34-9968-aa52b5b95745</td>\n",
       "      <td>paragraphs</td>\n",
       "      <td>{'page': -1, 'content': ['Status only affects ...</td>\n",
       "    </tr>\n",
       "    <tr>\n",
       "      <th>283</th>\n",
       "      <td>853b0f08-531a-4502-8a64-31c9c1616164</td>\n",
       "      <td>f98d999e-8011-4dc9-8a83-a1083cde6c8a</td>\n",
       "      <td>attribute</td>\n",
       "      <td>{'page': 29, 'title': 'Rank', 'children': [], ...</td>\n",
       "    </tr>\n",
       "    <tr>\n",
       "      <th>284</th>\n",
       "      <td>a8120545-ceed-4430-a692-8faa37a2dfa3</td>\n",
       "      <td>853b0f08-531a-4502-8a64-31c9c1616164</td>\n",
       "      <td>paragraphs</td>\n",
       "      <td>{'page': -1, 'content': ['Specific sectors of ...</td>\n",
       "    </tr>\n",
       "    <tr>\n",
       "      <th>285</th>\n",
       "      <td>1a98e2b9-a9d7-421a-b491-3417a64d99ce</td>\n",
       "      <td>853b0f08-531a-4502-8a64-31c9c1616164</td>\n",
       "      <td>list</td>\n",
       "      <td>{'page': -1, 'title': None, 'type': None, 'con...</td>\n",
       "    </tr>\n",
       "  </tbody>\n",
       "</table>\n",
       "<p>286 rows × 4 columns</p>\n",
       "</div>"
      ],
      "text/plain": [
       "                                       id  \\\n",
       "0    1e796d10-9718-4d54-b89d-2e31b2ee6645   \n",
       "1    b460eb3f-a59b-493a-9230-f3d21f75c76b   \n",
       "2    7ae2d188-3106-4a82-9a54-b4e41efe2f1d   \n",
       "3    f9fe638f-c21f-4f4e-9327-43b7491470e4   \n",
       "4    31198d32-fc2a-4b92-be04-840a094d9ed3   \n",
       "..                                    ...   \n",
       "281  2745f0b6-5f84-4e34-9968-aa52b5b95745   \n",
       "282  fbf661dd-584a-4db2-b2f8-00702d09b95a   \n",
       "283  853b0f08-531a-4502-8a64-31c9c1616164   \n",
       "284  a8120545-ceed-4430-a692-8faa37a2dfa3   \n",
       "285  1a98e2b9-a9d7-421a-b491-3417a64d99ce   \n",
       "\n",
       "                                parent_id        type  \\\n",
       "0    1e796d10-9718-4d54-b89d-2e31b2ee6645        book   \n",
       "1    1e796d10-9718-4d54-b89d-2e31b2ee6645     chapter   \n",
       "2    b460eb3f-a59b-493a-9230-f3d21f75c76b  paragraphs   \n",
       "3    b460eb3f-a59b-493a-9230-f3d21f75c76b  paragraphs   \n",
       "4    b460eb3f-a59b-493a-9230-f3d21f75c76b  paragraphs   \n",
       "..                                    ...         ...   \n",
       "281  e99f893a-6ad9-4a31-a8b6-217c6c457fd5     heading   \n",
       "282  2745f0b6-5f84-4e34-9968-aa52b5b95745  paragraphs   \n",
       "283  f98d999e-8011-4dc9-8a83-a1083cde6c8a   attribute   \n",
       "284  853b0f08-531a-4502-8a64-31c9c1616164  paragraphs   \n",
       "285  853b0f08-531a-4502-8a64-31c9c1616164        list   \n",
       "\n",
       "                                              metadata  \n",
       "0                  {'title': 'Basic Set - Characters'}  \n",
       "1    {'page': 5, 'title': 'Introduction', 'children...  \n",
       "2    {'page': -1, 'content': ['GURPS stands for “Ge...  \n",
       "3    {'page': -1, 'content': ['“Generic.” Some peop...  \n",
       "4    {'page': -1, 'content': ['GURPS has been in pr...  \n",
       "..                                                 ...  \n",
       "281  {'page': 29, 'title': 'Recognizing Status', 'c...  \n",
       "282  {'page': -1, 'content': ['Status only affects ...  \n",
       "283  {'page': 29, 'title': 'Rank', 'children': [], ...  \n",
       "284  {'page': -1, 'content': ['Specific sectors of ...  \n",
       "285  {'page': -1, 'title': None, 'type': None, 'con...  \n",
       "\n",
       "[286 rows x 4 columns]"
      ]
     },
     "execution_count": 765,
     "metadata": {},
     "output_type": "execute_result"
    }
   ],
   "source": [
    "df = pd.DataFrame(items)\n",
    "df"
   ]
  },
  {
   "cell_type": "code",
   "execution_count": 312,
   "id": "143e19de",
   "metadata": {},
   "outputs": [
    {
     "data": {
      "text/plain": [
       "'infobox'"
      ]
     },
     "execution_count": 312,
     "metadata": {},
     "output_type": "execute_result"
    }
   ],
   "source": [
    "get_parent_type(items, df.parent_id.iloc[-1])"
   ]
  },
  {
   "cell_type": "code",
   "execution_count": 469,
   "id": "51a87538",
   "metadata": {},
   "outputs": [],
   "source": [
    "save_df(df=df, title=\"df\")"
   ]
  },
  {
   "attachments": {},
   "cell_type": "markdown",
   "id": "b923a8e7",
   "metadata": {},
   "source": [
    "# Parse Book"
   ]
  },
  {
   "attachments": {},
   "cell_type": "markdown",
   "id": "6ab870b2",
   "metadata": {},
   "source": [
    "## Initialize Book"
   ]
  },
  {
   "cell_type": "code",
   "execution_count": 16,
   "id": "3f099b54",
   "metadata": {},
   "outputs": [],
   "source": [
    "title = \"Basic Set - Characters\"\n",
    "item, parent_id, book_id = new_book(title=title, items=items)"
   ]
  },
  {
   "cell_type": "code",
   "execution_count": 17,
   "id": "04948c2b",
   "metadata": {},
   "outputs": [
    {
     "data": {
      "text/plain": [
       "Item(id=UUID('1e796d10-9718-4d54-b89d-2e31b2ee6645'), parent_id=UUID('1e796d10-9718-4d54-b89d-2e31b2ee6645'), type='book', metadata={'title': 'Basic Set - Characters'})"
      ]
     },
     "execution_count": 17,
     "metadata": {},
     "output_type": "execute_result"
    }
   ],
   "source": [
    "item"
   ]
  },
  {
   "attachments": {},
   "cell_type": "markdown",
   "id": "c2f0973d",
   "metadata": {},
   "source": [
    "## Add Chapter"
   ]
  },
  {
   "cell_type": "code",
   "execution_count": 19,
   "id": "05010dcd",
   "metadata": {},
   "outputs": [],
   "source": [
    "page = 10\n",
    "title = \"Chapter One: Creating a Character\""
   ]
  },
  {
   "cell_type": "code",
   "execution_count": 20,
   "id": "d0a9c7e0",
   "metadata": {},
   "outputs": [],
   "source": [
    "item = add_chapter(\n",
    "    title=title, page=page, items=items, parent_id=book_id\n",
    ")\n",
    "parent_id = item.id"
   ]
  },
  {
   "attachments": {},
   "cell_type": "markdown",
   "id": "8fd11d01",
   "metadata": {},
   "source": [
    "## Add Paragraph"
   ]
  },
  {
   "cell_type": "code",
   "execution_count": 787,
   "id": "e36739c7",
   "metadata": {},
   "outputs": [],
   "source": [
    "text = \"\"\"ISWAT feeds and clothes Dai, and issues him the equipment he needs\n",
    "on a mission, but does not let him fetch his loot from Yrth. Thus, he does\n",
    "not personally own much. We give him Wealth (Poor), for -15 points. This\n",
    "gives 1/5 starting wealth for TL8, or $4,000. Still, by Yrth standards (starting\n",
    "wealth at TL3 is only $1,000), he lives in more luxury than he knew as\n",
    "a master thief!\n",
    "\n",
    "Looking at the traits listed under Privilege and Social Restraints, we\n",
    "choose two to reflect Dai’s job. ISWAT is powerful, and its agents’ Legal\n",
    "Enforcement Powers (p. 65) reach across time and space, for 15 points.\n",
    "But these powers come with a Duty (p. 133), which occurs on 15 or less\n",
    "and is extremely hazardous, for -20 points.\n",
    "\n",
    "Dai’s wealth and influence are worth a net -20 points. This lowers his\n",
    "running point total to 143 points.\n",
    "\"\"\""
   ]
  },
  {
   "cell_type": "code",
   "execution_count": 788,
   "id": "a96a1bed",
   "metadata": {},
   "outputs": [],
   "source": [
    "item = add_paragraphs(text=text, items=items, parent_id=parent_id)"
   ]
  },
  {
   "attachments": {},
   "cell_type": "markdown",
   "id": "0147dae5",
   "metadata": {},
   "source": [
    "## Add Heading"
   ]
  },
  {
   "cell_type": "code",
   "execution_count": 773,
   "id": "590c29fa",
   "metadata": {},
   "outputs": [],
   "source": [
    "page = 31\n",
    "title = \"Friends and Foes\""
   ]
  },
  {
   "cell_type": "code",
   "execution_count": 774,
   "id": "d3fb41f7",
   "metadata": {},
   "outputs": [
    {
     "data": {
      "text/html": [
       "<div>\n",
       "<style scoped>\n",
       "    .dataframe tbody tr th:only-of-type {\n",
       "        vertical-align: middle;\n",
       "    }\n",
       "\n",
       "    .dataframe tbody tr th {\n",
       "        vertical-align: top;\n",
       "    }\n",
       "\n",
       "    .dataframe thead th {\n",
       "        text-align: right;\n",
       "    }\n",
       "</style>\n",
       "<table border=\"1\" class=\"dataframe\">\n",
       "  <thead>\n",
       "    <tr style=\"text-align: right;\">\n",
       "      <th></th>\n",
       "      <th>id</th>\n",
       "      <th>parent_id</th>\n",
       "      <th>type</th>\n",
       "      <th>metadata</th>\n",
       "    </tr>\n",
       "  </thead>\n",
       "  <tbody>\n",
       "    <tr>\n",
       "      <th>286</th>\n",
       "      <td>1dcb6a35-fba6-4388-a661-ee56472975a1</td>\n",
       "      <td>48435dc1-9c23-46a1-bb93-299f0dc7d970</td>\n",
       "      <td>heading</td>\n",
       "      <td>{'page': 30, 'title': 'Privilege', 'children':...</td>\n",
       "    </tr>\n",
       "  </tbody>\n",
       "</table>\n",
       "</div>"
      ],
      "text/plain": [
       "                                       id  \\\n",
       "286  1dcb6a35-fba6-4388-a661-ee56472975a1   \n",
       "\n",
       "                                parent_id     type  \\\n",
       "286  48435dc1-9c23-46a1-bb93-299f0dc7d970  heading   \n",
       "\n",
       "                                              metadata  \n",
       "286  {'page': 30, 'title': 'Privilege', 'children':...  "
      ]
     },
     "execution_count": 774,
     "metadata": {},
     "output_type": "execute_result"
    }
   ],
   "source": [
    "df = pd.DataFrame(items)\n",
    "df.loc[df.id == parent_id]"
   ]
  },
  {
   "cell_type": "code",
   "execution_count": 775,
   "id": "bc3b6723",
   "metadata": {},
   "outputs": [
    {
     "data": {
      "text/html": [
       "<div>\n",
       "<style scoped>\n",
       "    .dataframe tbody tr th:only-of-type {\n",
       "        vertical-align: middle;\n",
       "    }\n",
       "\n",
       "    .dataframe tbody tr th {\n",
       "        vertical-align: top;\n",
       "    }\n",
       "\n",
       "    .dataframe thead th {\n",
       "        text-align: right;\n",
       "    }\n",
       "</style>\n",
       "<table border=\"1\" class=\"dataframe\">\n",
       "  <thead>\n",
       "    <tr style=\"text-align: right;\">\n",
       "      <th></th>\n",
       "      <th>id</th>\n",
       "      <th>parent_id</th>\n",
       "      <th>type</th>\n",
       "      <th>metadata</th>\n",
       "    </tr>\n",
       "  </thead>\n",
       "  <tbody>\n",
       "    <tr>\n",
       "      <th>226</th>\n",
       "      <td>48435dc1-9c23-46a1-bb93-299f0dc7d970</td>\n",
       "      <td>01aeb0ce-f3a3-4a5a-b17e-dbb68529fcf6</td>\n",
       "      <td>heading</td>\n",
       "      <td>{'page': 25, 'title': 'Wealth and Influence', ...</td>\n",
       "    </tr>\n",
       "  </tbody>\n",
       "</table>\n",
       "</div>"
      ],
      "text/plain": [
       "                                       id  \\\n",
       "226  48435dc1-9c23-46a1-bb93-299f0dc7d970   \n",
       "\n",
       "                                parent_id     type  \\\n",
       "226  01aeb0ce-f3a3-4a5a-b17e-dbb68529fcf6  heading   \n",
       "\n",
       "                                              metadata  \n",
       "226  {'page': 25, 'title': 'Wealth and Influence', ...  "
      ]
     },
     "execution_count": 775,
     "metadata": {},
     "output_type": "execute_result"
    }
   ],
   "source": [
    "# Only if needed\n",
    "parent_id = elevate_parent(items=items, parent_id=parent_id)\n",
    "df.loc[df.id == parent_id]"
   ]
  },
  {
   "cell_type": "code",
   "execution_count": 776,
   "id": "6d659f34",
   "metadata": {},
   "outputs": [],
   "source": [
    "item = add_heading(\n",
    "    title=title,\n",
    "    page=page,\n",
    "    items=items,\n",
    "    parent_id=parent_id)\n",
    "parent_id = item.id"
   ]
  },
  {
   "attachments": {},
   "cell_type": "markdown",
   "id": "70314d34",
   "metadata": {},
   "source": [
    "## Add List"
   ]
  },
  {
   "cell_type": "code",
   "execution_count": 762,
   "id": "e93b4b77",
   "metadata": {},
   "outputs": [],
   "source": [
    "text = \"\"\"Administrative Rank: Position within\n",
    "a governmental bureaucracy. When\n",
    "dealing with other administrators, differences\n",
    "in Rank work just like differences\n",
    "in Status (see p. 28). At TL5 and\n",
    "higher, a large bureaucracy might\n",
    "have several varieties of Rank: one per\n",
    "government department, and possibly\n",
    "extra categories for the senate, judiciary,\n",
    "etc. (Defense or law-enforcement\n",
    "officials use Military or Police Rank\n",
    "instead.) Note this on your character\n",
    "sheet; e.g., Administrative Rank\n",
    "(Judiciary).\n",
    "\n",
    "Merchant Rank: Position within a\n",
    "national or transnational organization\n",
    "of merchants. This could be anything\n",
    "from the mercantile culture of the\n",
    "Aztecs (where Merchant Rank verged\n",
    "on being Status) to the “merchant\n",
    "marine” of a modern or futuristic society\n",
    "(where Merchant Rank often parallels\n",
    "Military Rank during wartime).\n",
    "\n",
    "Military Rank: Position within a\n",
    "military organization. Each organization\n",
    "is structured differently. In general,\n",
    "personnel that are not specifically\n",
    "leaders will be Rank 0-2, while lowlevel\n",
    "officers and senior enlisted men\n",
    "will be Rank 3-4. Rank 5 and higher is\n",
    "normally limited to major commands\n",
    "and duties where the officer is responsible\n",
    "for extremely valuable or rare\n",
    "resources. Limited-duty officers, specialists,\n",
    "and personnel with little actual\n",
    "responsibility or command authority\n",
    "have a lower Rank in GURPS\n",
    "terms, despite possibly possessing\n",
    "titles identical to those of a higher\n",
    "Rank; represent this with one or more\n",
    "levels of Courtesy Rank (see Courtesy\n",
    "Rank, p. 29)\n",
    "\n",
    "Police Rank: Position in a police\n",
    "force. Each agency has its own variety\n",
    "of Rank. You must buy Legal\n",
    "Enforcement Powers (p. 65) before\n",
    "you can buy Police Rank; this is the\n",
    "difference between a patrol officer\n",
    "(Police Rank 0, for 0 points) and an\n",
    "ordinary citizen (no Police Rank, also\n",
    "0 points). Note that in a police state,\n",
    "there is no difference between Police\n",
    "Rank and Military Rank.\n",
    "\n",
    "Religious Rank: Position in a religious\n",
    "hierarchy. Each religion has its\n",
    "own variety of Rank. You must buy\n",
    "Clerical Investment (p. 43) before you\n",
    "can buy Religious Rank; this is the difference\n",
    "between a novice (Religious\n",
    "Rank 0, for 0 points) and a layperson\n",
    "(no Religious Rank, also 0 points).\n",
    "Other common requirements include\n",
    "a minimum level of Theology skill and\n",
    "being of a particular sex or race.\n",
    "Differences in Rank work just like differences\n",
    "in Status (see p. 28) when\n",
    "dealing with co-religionists and those\n",
    "who respect your faith.\n",
    "\"\"\""
   ]
  },
  {
   "cell_type": "code",
   "execution_count": 763,
   "id": "1bbee410",
   "metadata": {},
   "outputs": [
    {
     "data": {
      "text/plain": [
       "[{'Administrative Rank': 'Position within a governmental bureaucracy. When dealing with other administrators, differences in Rank work just like differences in Status (see p. 28). At TL5 and higher, a large bureaucracy might have several varieties of Rank'},\n",
       " {'Merchant Rank': 'Position within a national or transnational organization of merchants. This could be anything from the mercantile culture of the Aztecs (where Merchant Rank verged on being Status) to the “merchant marine” of a modern or futuristic society (where Merchant Rank often parallels Military Rank during wartime).'},\n",
       " {'Military Rank': 'Position within a military organization. Each organization is structured differently. In general, personnel that are not specifically leaders will be Rank 0-2, while lowlevel officers and senior enlisted men will be Rank 3-4. Rank 5 and higher is normally limited to major commands and duties where the officer is responsible for extremely valuable or rare resources. Limited-duty officers, specialists, and personnel with little actual responsibility or command authority have a lower Rank in GURPS terms, despite possibly possessing titles identical to those of a higher Rank; represent this with one or more levels of Courtesy Rank (see Courtesy Rank, p. 29)'},\n",
       " {'Police Rank': 'Position in a police force. Each agency has its own variety of Rank. You must buy Legal Enforcement Powers (p. 65) before you can buy Police Rank; this is the difference between a patrol officer (Police Rank 0, for 0 points) and an ordinary citizen (no Police Rank, also 0 points). Note that in a police state, there is no difference between Police Rank and Military Rank.'},\n",
       " {'Religious Rank': 'Position in a religious hierarchy. Each religion has its own variety of Rank. You must buy Clerical Investment (p. 43) before you can buy Religious Rank; this is the difference between a novice (Religious Rank 0, for 0 points) and a layperson (no Religious Rank, also 0 points). Other common requirements include a minimum level of Theology skill and being of a particular sex or race. Differences in Rank work just like differences in Status (see p. 28) when dealing with co-religionists and those who respect your faith.'}]"
      ]
     },
     "execution_count": 763,
     "metadata": {},
     "output_type": "execute_result"
    }
   ],
   "source": [
    "parse_list(text)"
   ]
  },
  {
   "cell_type": "code",
   "execution_count": 764,
   "id": "f49b9a63",
   "metadata": {},
   "outputs": [],
   "source": [
    "item = add_list(text=text, items=items, parent_id=parent_id)"
   ]
  },
  {
   "attachments": {},
   "cell_type": "markdown",
   "id": "6a8e8714",
   "metadata": {},
   "source": [
    "## Add Info Box"
   ]
  },
  {
   "cell_type": "code",
   "execution_count": 779,
   "id": "ccbec7bc",
   "metadata": {},
   "outputs": [],
   "source": [
    "page = 28\n",
    "title = \"Example of Character Creation (cont’d)\""
   ]
  },
  {
   "cell_type": "code",
   "execution_count": 784,
   "id": "54b6493b",
   "metadata": {},
   "outputs": [
    {
     "data": {
      "text/html": [
       "<div>\n",
       "<style scoped>\n",
       "    .dataframe tbody tr th:only-of-type {\n",
       "        vertical-align: middle;\n",
       "    }\n",
       "\n",
       "    .dataframe tbody tr th {\n",
       "        vertical-align: top;\n",
       "    }\n",
       "\n",
       "    .dataframe thead th {\n",
       "        text-align: right;\n",
       "    }\n",
       "</style>\n",
       "<table border=\"1\" class=\"dataframe\">\n",
       "  <thead>\n",
       "    <tr style=\"text-align: right;\">\n",
       "      <th></th>\n",
       "      <th>id</th>\n",
       "      <th>parent_id</th>\n",
       "      <th>type</th>\n",
       "      <th>metadata</th>\n",
       "    </tr>\n",
       "  </thead>\n",
       "  <tbody>\n",
       "    <tr>\n",
       "      <th>288</th>\n",
       "      <td>ac79debf-1025-4d5f-893a-d674ad15bd54</td>\n",
       "      <td>48435dc1-9c23-46a1-bb93-299f0dc7d970</td>\n",
       "      <td>heading</td>\n",
       "      <td>{'page': 30, 'title': 'Social Restraints', 'ch...</td>\n",
       "    </tr>\n",
       "  </tbody>\n",
       "</table>\n",
       "</div>"
      ],
      "text/plain": [
       "                                       id  \\\n",
       "288  ac79debf-1025-4d5f-893a-d674ad15bd54   \n",
       "\n",
       "                                parent_id     type  \\\n",
       "288  48435dc1-9c23-46a1-bb93-299f0dc7d970  heading   \n",
       "\n",
       "                                              metadata  \n",
       "288  {'page': 30, 'title': 'Social Restraints', 'ch...  "
      ]
     },
     "execution_count": 784,
     "metadata": {},
     "output_type": "execute_result"
    }
   ],
   "source": [
    "df = pd.DataFrame(items)\n",
    "df.loc[df.id == parent_id]"
   ]
  },
  {
   "cell_type": "code",
   "execution_count": 785,
   "id": "2431c4e7",
   "metadata": {},
   "outputs": [
    {
     "data": {
      "text/html": [
       "<div>\n",
       "<style scoped>\n",
       "    .dataframe tbody tr th:only-of-type {\n",
       "        vertical-align: middle;\n",
       "    }\n",
       "\n",
       "    .dataframe tbody tr th {\n",
       "        vertical-align: top;\n",
       "    }\n",
       "\n",
       "    .dataframe thead th {\n",
       "        text-align: right;\n",
       "    }\n",
       "</style>\n",
       "<table border=\"1\" class=\"dataframe\">\n",
       "  <thead>\n",
       "    <tr style=\"text-align: right;\">\n",
       "      <th></th>\n",
       "      <th>id</th>\n",
       "      <th>parent_id</th>\n",
       "      <th>type</th>\n",
       "      <th>metadata</th>\n",
       "    </tr>\n",
       "  </thead>\n",
       "  <tbody>\n",
       "    <tr>\n",
       "      <th>226</th>\n",
       "      <td>48435dc1-9c23-46a1-bb93-299f0dc7d970</td>\n",
       "      <td>01aeb0ce-f3a3-4a5a-b17e-dbb68529fcf6</td>\n",
       "      <td>heading</td>\n",
       "      <td>{'page': 25, 'title': 'Wealth and Influence', ...</td>\n",
       "    </tr>\n",
       "  </tbody>\n",
       "</table>\n",
       "</div>"
      ],
      "text/plain": [
       "                                       id  \\\n",
       "226  48435dc1-9c23-46a1-bb93-299f0dc7d970   \n",
       "\n",
       "                                parent_id     type  \\\n",
       "226  01aeb0ce-f3a3-4a5a-b17e-dbb68529fcf6  heading   \n",
       "\n",
       "                                              metadata  \n",
       "226  {'page': 25, 'title': 'Wealth and Influence', ...  "
      ]
     },
     "execution_count": 785,
     "metadata": {},
     "output_type": "execute_result"
    }
   ],
   "source": [
    "# Only if needed\n",
    "parent_id = elevate_parent(items=items, parent_id=parent_id)\n",
    "df.loc[df.id == parent_id]"
   ]
  },
  {
   "cell_type": "code",
   "execution_count": 786,
   "id": "84214c32",
   "metadata": {},
   "outputs": [],
   "source": [
    "item = add_infobox(\n",
    "    title=title,\n",
    "    page=page,\n",
    "    items=items,\n",
    "    parent_id=parent_id)\n",
    "parent_id = item.id"
   ]
  },
  {
   "attachments": {},
   "cell_type": "markdown",
   "id": "39b16c0c",
   "metadata": {},
   "source": [
    "## Add Table"
   ]
  },
  {
   "cell_type": "code",
   "execution_count": 287,
   "id": "ea68e18c",
   "metadata": {},
   "outputs": [],
   "source": [
    "title = \"Size Modifier Table\"\n",
    "metadata = None\n",
    "text = \"\"\"Longest Dimension | Size Modifier\n",
    "0.05 yard (1.8”) | -10\n",
    "0.07 yard (2.5”) | -9\n",
    "0.1 yard (3.5”)  | -8\n",
    "0.15 yard (5”)   | -7\n",
    "0.2 yard (7”)    | -6\n",
    "0.3 yard (10”)   | -5\n",
    "0.5 yard (18”)   | -4\n",
    "0.7 yard (2’)    | -3\n",
    "1 yard (3’)      | -2\n",
    "1.5 yards (4.5’) | -1\n",
    "2 yards (6’)     |  0\n",
    "3 yards (9’)     | +1\n",
    "5 yards (15’)    | +2\n",
    "7 yards (21’)    | +3\n",
    "10 yards (30’)   | +4\n",
    "15 yards (45’)   | +5\n",
    "20 yards (60’)   | +6\n",
    "30 yards (90’)   | +7\n",
    "50 yards (150’)  | +8\n",
    "70 yards (210’)  | +9\n",
    "100 yards (300’) | +10\n",
    "150 yards (450’) | +11\n",
    "\"\"\""
   ]
  },
  {
   "cell_type": "code",
   "execution_count": 288,
   "id": "30f8e999",
   "metadata": {},
   "outputs": [
    {
     "data": {
      "text/html": [
       "<div>\n",
       "<style scoped>\n",
       "    .dataframe tbody tr th:only-of-type {\n",
       "        vertical-align: middle;\n",
       "    }\n",
       "\n",
       "    .dataframe tbody tr th {\n",
       "        vertical-align: top;\n",
       "    }\n",
       "\n",
       "    .dataframe thead th {\n",
       "        text-align: right;\n",
       "    }\n",
       "</style>\n",
       "<table border=\"1\" class=\"dataframe\">\n",
       "  <thead>\n",
       "    <tr style=\"text-align: right;\">\n",
       "      <th></th>\n",
       "      <th>Longest Dimension</th>\n",
       "      <th>Size Modifier</th>\n",
       "    </tr>\n",
       "  </thead>\n",
       "  <tbody>\n",
       "    <tr>\n",
       "      <th>0</th>\n",
       "      <td>0.05 yard (1.8”)</td>\n",
       "      <td>-10</td>\n",
       "    </tr>\n",
       "    <tr>\n",
       "      <th>1</th>\n",
       "      <td>0.07 yard (2.5”)</td>\n",
       "      <td>-9</td>\n",
       "    </tr>\n",
       "    <tr>\n",
       "      <th>2</th>\n",
       "      <td>0.1 yard (3.5”)</td>\n",
       "      <td>-8</td>\n",
       "    </tr>\n",
       "    <tr>\n",
       "      <th>3</th>\n",
       "      <td>0.15 yard (5”)</td>\n",
       "      <td>-7</td>\n",
       "    </tr>\n",
       "    <tr>\n",
       "      <th>4</th>\n",
       "      <td>0.2 yard (7”)</td>\n",
       "      <td>-6</td>\n",
       "    </tr>\n",
       "    <tr>\n",
       "      <th>5</th>\n",
       "      <td>0.3 yard (10”)</td>\n",
       "      <td>-5</td>\n",
       "    </tr>\n",
       "    <tr>\n",
       "      <th>6</th>\n",
       "      <td>0.5 yard (18”)</td>\n",
       "      <td>-4</td>\n",
       "    </tr>\n",
       "    <tr>\n",
       "      <th>7</th>\n",
       "      <td>0.7 yard (2’)</td>\n",
       "      <td>-3</td>\n",
       "    </tr>\n",
       "    <tr>\n",
       "      <th>8</th>\n",
       "      <td>1 yard (3’)</td>\n",
       "      <td>-2</td>\n",
       "    </tr>\n",
       "    <tr>\n",
       "      <th>9</th>\n",
       "      <td>1.5 yards (4.5’)</td>\n",
       "      <td>-1</td>\n",
       "    </tr>\n",
       "    <tr>\n",
       "      <th>10</th>\n",
       "      <td>2 yards (6’)</td>\n",
       "      <td>0</td>\n",
       "    </tr>\n",
       "    <tr>\n",
       "      <th>11</th>\n",
       "      <td>3 yards (9’)</td>\n",
       "      <td>1</td>\n",
       "    </tr>\n",
       "    <tr>\n",
       "      <th>12</th>\n",
       "      <td>5 yards (15’)</td>\n",
       "      <td>2</td>\n",
       "    </tr>\n",
       "    <tr>\n",
       "      <th>13</th>\n",
       "      <td>7 yards (21’)</td>\n",
       "      <td>3</td>\n",
       "    </tr>\n",
       "    <tr>\n",
       "      <th>14</th>\n",
       "      <td>10 yards (30’)</td>\n",
       "      <td>4</td>\n",
       "    </tr>\n",
       "    <tr>\n",
       "      <th>15</th>\n",
       "      <td>15 yards (45’)</td>\n",
       "      <td>5</td>\n",
       "    </tr>\n",
       "    <tr>\n",
       "      <th>16</th>\n",
       "      <td>20 yards (60’)</td>\n",
       "      <td>6</td>\n",
       "    </tr>\n",
       "    <tr>\n",
       "      <th>17</th>\n",
       "      <td>30 yards (90’)</td>\n",
       "      <td>7</td>\n",
       "    </tr>\n",
       "    <tr>\n",
       "      <th>18</th>\n",
       "      <td>50 yards (150’)</td>\n",
       "      <td>8</td>\n",
       "    </tr>\n",
       "    <tr>\n",
       "      <th>19</th>\n",
       "      <td>70 yards (210’)</td>\n",
       "      <td>9</td>\n",
       "    </tr>\n",
       "    <tr>\n",
       "      <th>20</th>\n",
       "      <td>100 yards (300’)</td>\n",
       "      <td>10</td>\n",
       "    </tr>\n",
       "    <tr>\n",
       "      <th>21</th>\n",
       "      <td>150 yards (450’)</td>\n",
       "      <td>11</td>\n",
       "    </tr>\n",
       "  </tbody>\n",
       "</table>\n",
       "</div>"
      ],
      "text/plain": [
       "   Longest Dimension    Size Modifier\n",
       "0   0.05 yard (1.8”)              -10\n",
       "1   0.07 yard (2.5”)               -9\n",
       "2   0.1 yard (3.5”)                -8\n",
       "3   0.15 yard (5”)                 -7\n",
       "4   0.2 yard (7”)                  -6\n",
       "5   0.3 yard (10”)                 -5\n",
       "6   0.5 yard (18”)                 -4\n",
       "7   0.7 yard (2’)                  -3\n",
       "8   1 yard (3’)                    -2\n",
       "9   1.5 yards (4.5’)               -1\n",
       "10  2 yards (6’)                    0\n",
       "11  3 yards (9’)                    1\n",
       "12  5 yards (15’)                   2\n",
       "13  7 yards (21’)                   3\n",
       "14  10 yards (30’)                  4\n",
       "15  15 yards (45’)                  5\n",
       "16  20 yards (60’)                  6\n",
       "17  30 yards (90’)                  7\n",
       "18  50 yards (150’)                 8\n",
       "19  70 yards (210’)                 9\n",
       "20  100 yards (300’)               10\n",
       "21  150 yards (450’)               11"
      ]
     },
     "execution_count": 288,
     "metadata": {},
     "output_type": "execute_result"
    }
   ],
   "source": [
    "pd.DataFrame(parse_table(text).to_dict())\n",
    "#pd.DataFrame(parse_table(text, header=[0, 1]).to_dict())"
   ]
  },
  {
   "cell_type": "code",
   "execution_count": 289,
   "id": "033bf8ce",
   "metadata": {},
   "outputs": [],
   "source": [
    "# Single line header\n",
    "#item = add_table(text=text, items=items, parent_id=parent_id)\n",
    "item = add_table(title=title, text=text, items=items, parent_id=parent_id)"
   ]
  },
  {
   "cell_type": "code",
   "execution_count": 246,
   "id": "5a9b2adf",
   "metadata": {},
   "outputs": [],
   "source": [
    "# Multi-row header\n",
    "item = add_table(text=text, items=items, parent_id=parent_id, header=[0, 1])"
   ]
  },
  {
   "attachments": {},
   "cell_type": "markdown",
   "id": "f2ed4e1c-b51e-45e1-a9d5-fc6473e48ddb",
   "metadata": {
    "jp-MarkdownHeadingCollapsed": true,
    "tags": []
   },
   "source": [
    "## Add Attribute"
   ]
  },
  {
   "cell_type": "code",
   "execution_count": 755,
   "id": "27a01066-00cf-49b3-a217-7a1affc95b00",
   "metadata": {},
   "outputs": [],
   "source": [
    "page = 29\n",
    "text = \"Rank\"\n",
    "cost = \"5 or 10 point/level\""
   ]
  },
  {
   "cell_type": "code",
   "execution_count": 756,
   "id": "dc49b49d",
   "metadata": {},
   "outputs": [
    {
     "data": {
      "text/html": [
       "<div>\n",
       "<style scoped>\n",
       "    .dataframe tbody tr th:only-of-type {\n",
       "        vertical-align: middle;\n",
       "    }\n",
       "\n",
       "    .dataframe tbody tr th {\n",
       "        vertical-align: top;\n",
       "    }\n",
       "\n",
       "    .dataframe thead th {\n",
       "        text-align: right;\n",
       "    }\n",
       "</style>\n",
       "<table border=\"1\" class=\"dataframe\">\n",
       "  <thead>\n",
       "    <tr style=\"text-align: right;\">\n",
       "      <th></th>\n",
       "      <th>id</th>\n",
       "      <th>parent_id</th>\n",
       "      <th>type</th>\n",
       "      <th>metadata</th>\n",
       "    </tr>\n",
       "  </thead>\n",
       "  <tbody>\n",
       "    <tr>\n",
       "      <th>281</th>\n",
       "      <td>2745f0b6-5f84-4e34-9968-aa52b5b95745</td>\n",
       "      <td>e99f893a-6ad9-4a31-a8b6-217c6c457fd5</td>\n",
       "      <td>heading</td>\n",
       "      <td>{'page': 29, 'title': 'Recognizing Status', 'c...</td>\n",
       "    </tr>\n",
       "  </tbody>\n",
       "</table>\n",
       "</div>"
      ],
      "text/plain": [
       "                                       id  \\\n",
       "281  2745f0b6-5f84-4e34-9968-aa52b5b95745   \n",
       "\n",
       "                                parent_id     type  \\\n",
       "281  e99f893a-6ad9-4a31-a8b6-217c6c457fd5  heading   \n",
       "\n",
       "                                              metadata  \n",
       "281  {'page': 29, 'title': 'Recognizing Status', 'c...  "
      ]
     },
     "execution_count": 756,
     "metadata": {},
     "output_type": "execute_result"
    }
   ],
   "source": [
    "df = pd.DataFrame(items)\n",
    "df.loc[df.id == parent_id]"
   ]
  },
  {
   "cell_type": "code",
   "execution_count": 758,
   "id": "bc66c7e7",
   "metadata": {},
   "outputs": [
    {
     "data": {
      "text/html": [
       "<div>\n",
       "<style scoped>\n",
       "    .dataframe tbody tr th:only-of-type {\n",
       "        vertical-align: middle;\n",
       "    }\n",
       "\n",
       "    .dataframe tbody tr th {\n",
       "        vertical-align: top;\n",
       "    }\n",
       "\n",
       "    .dataframe thead th {\n",
       "        text-align: right;\n",
       "    }\n",
       "</style>\n",
       "<table border=\"1\" class=\"dataframe\">\n",
       "  <thead>\n",
       "    <tr style=\"text-align: right;\">\n",
       "      <th></th>\n",
       "      <th>id</th>\n",
       "      <th>parent_id</th>\n",
       "      <th>type</th>\n",
       "      <th>metadata</th>\n",
       "    </tr>\n",
       "  </thead>\n",
       "  <tbody>\n",
       "    <tr>\n",
       "      <th>270</th>\n",
       "      <td>f98d999e-8011-4dc9-8a83-a1083cde6c8a</td>\n",
       "      <td>48435dc1-9c23-46a1-bb93-299f0dc7d970</td>\n",
       "      <td>heading</td>\n",
       "      <td>{'page': 28, 'title': 'Importance', 'children'...</td>\n",
       "    </tr>\n",
       "  </tbody>\n",
       "</table>\n",
       "</div>"
      ],
      "text/plain": [
       "                                       id  \\\n",
       "270  f98d999e-8011-4dc9-8a83-a1083cde6c8a   \n",
       "\n",
       "                                parent_id     type  \\\n",
       "270  48435dc1-9c23-46a1-bb93-299f0dc7d970  heading   \n",
       "\n",
       "                                              metadata  \n",
       "270  {'page': 28, 'title': 'Importance', 'children'...  "
      ]
     },
     "execution_count": 758,
     "metadata": {},
     "output_type": "execute_result"
    }
   ],
   "source": [
    "# Only if needed\n",
    "parent_id = elevate_parent(items=items, parent_id=parent_id)\n",
    "df.loc[df.id == parent_id]"
   ]
  },
  {
   "cell_type": "code",
   "execution_count": 759,
   "id": "bbdffc0a",
   "metadata": {},
   "outputs": [],
   "source": [
    "item = add_attribute(text=text, cost=cost, items=items, parent_id=parent_id, page=page)\n",
    "parent_id = item.id"
   ]
  },
  {
   "attachments": {},
   "cell_type": "markdown",
   "id": "b18702c0",
   "metadata": {},
   "source": [
    "## Add Special Limitation"
   ]
  },
  {
   "cell_type": "code",
   "execution_count": null,
   "id": "e057ddd3",
   "metadata": {},
   "outputs": [],
   "source": [
    "text = \"Strength (ST)\"\n",
    "cost = \"±10 points/level\""
   ]
  },
  {
   "cell_type": "code",
   "execution_count": null,
   "id": "60d0a415",
   "metadata": {},
   "outputs": [],
   "source": [
    "item = add_special_limitation(text=text, cost=cost, items=items, parent_id=parent_id)\n",
    "parent_id = item.id"
   ]
  }
 ],
 "metadata": {
  "kernelspec": {
   "display_name": "Python 3.11.1 64-bit",
   "language": "python",
   "name": "python3"
  },
  "language_info": {
   "codemirror_mode": {
    "name": "ipython",
    "version": 3
   },
   "file_extension": ".py",
   "mimetype": "text/x-python",
   "name": "python",
   "nbconvert_exporter": "python",
   "pygments_lexer": "ipython3",
   "version": "3.11.1"
  },
  "vscode": {
   "interpreter": {
    "hash": "90cfd13c092c1551a6e1c264d268d88c890582d9beffc4141c98e9966645be44"
   }
  }
 },
 "nbformat": 4,
 "nbformat_minor": 5
}
