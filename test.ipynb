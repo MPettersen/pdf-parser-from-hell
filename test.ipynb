{
 "cells": [
  {
   "cell_type": "code",
   "execution_count": 1,
   "id": "d5e2fbfc-4dfd-4e1b-9e9a-4f12d8409330",
   "metadata": {},
   "outputs": [],
   "source": [
    "%load_ext autoreload\n",
    "%autoreload 2"
   ]
  },
  {
   "cell_type": "code",
   "execution_count": 2,
   "id": "0762d8e4-2b93-4f92-97c2-2b9d8c2bb380",
   "metadata": {},
   "outputs": [],
   "source": [
    "from uuid import UUID, uuid4\n",
    "from pprint import pp"
   ]
  },
  {
   "cell_type": "code",
   "execution_count": 3,
   "id": "6661c951-9dde-4b6b-be96-3bba38c0d0ae",
   "metadata": {},
   "outputs": [],
   "source": [
    "import pandas as pd\n",
    "from io import StringIO"
   ]
  },
  {
   "cell_type": "code",
   "execution_count": 3,
   "id": "feb55e88-fd88-4a3a-9d76-82b1b72d357d",
   "metadata": {},
   "outputs": [],
   "source": [
    "from models import (\n",
    "    Advantage,\n",
    "    Disadvantage,\n",
    "    List\n",
    ")"
   ]
  },
  {
   "cell_type": "code",
   "execution_count": 26,
   "id": "a02771a2-0498-4843-bd67-fbc8b7a6ff1f",
   "metadata": {},
   "outputs": [],
   "source": [
    "from parsers.book_parser import (\n",
    "    parse_paragraphs,\n",
    "    parse_list,\n",
    "    line_start_with_number_dot,\n",
    "    parse_table\n",
    ")"
   ]
  },
  {
   "cell_type": "code",
   "execution_count": 22,
   "id": "7bec8b10-58af-4e9c-a17c-bb8014c81308",
   "metadata": {},
   "outputs": [],
   "source": [
    "from tests.test_values import (\n",
    "    t1,\n",
    "    t2,\n",
    "    l1,\n",
    "    l2,\n",
    "    l3,\n",
    "    l4,\n",
    "    l5,\n",
    "    table1,\n",
    "    table2,\n",
    "    table3\n",
    ")"
   ]
  },
  {
   "cell_type": "markdown",
   "id": "f2ed4e1c-b51e-45e1-a9d5-fc6473e48ddb",
   "metadata": {
    "jp-MarkdownHeadingCollapsed": true,
    "tags": []
   },
   "source": [
    "# Lists"
   ]
  },
  {
   "cell_type": "code",
   "execution_count": 15,
   "id": "27dc06f0-d8a2-4d17-89ff-aa5ef9bfde9c",
   "metadata": {},
   "outputs": [
    {
     "data": {
      "text/plain": [
       "['Who were his parents? (Does he know?) Are they still alive? If not, what became of them? If so, does he get along with them?',\n",
       " 'What training does he have? Was he an apprentice? A student? Or is he self-taught?',\n",
       " 'What is his current occupation? What other jobs has he held?',\n",
       " 'What social class does he belong to? How wealthy is he?',\n",
       " 'Who are his friends? His enemies? His closest professional associates?',\n",
       " 'What were the most important moments of his life?',\n",
       " 'What are his likes and dislikes? Hobbies and interests? Morals and beliefs?',\n",
       " 'What are his motivations? Plans for the future?']"
      ]
     },
     "execution_count": 15,
     "metadata": {},
     "output_type": "execute_result"
    }
   ],
   "source": [
    "parse_list(l3)"
   ]
  },
  {
   "cell_type": "code",
   "execution_count": 16,
   "id": "54ca0bf8-be35-4611-af88-6b1a025558e1",
   "metadata": {},
   "outputs": [
    {
     "data": {
      "text/plain": [
       "['GURPS Basic Set Campaigns. The GM will need a copy of this book, which contains rules for success rolls, physical feats, combat, injury, animals, and vehicles, as well as advice on how to run the game and design a campaign.',\n",
       " 'Character sheets. Each player will need a copy of the Character Sheet (pp. 335-336) on which to record his PC’s statistics. You may make as many copies as you like for your own use (but not for resale).',\n",
       " 'Three six-sided dice. A set of three dice for each player, and another set for the GM, is even better.',\n",
       " 'Pencils and scratch paper. For taking notes, sketching maps, etc.']"
      ]
     },
     "execution_count": 16,
     "metadata": {},
     "output_type": "execute_result"
    }
   ],
   "source": [
    "parse_list(l2)"
   ]
  },
  {
   "cell_type": "code",
   "execution_count": 17,
   "id": "aa330a2b-3268-4456-be98-125c1f191120",
   "metadata": {},
   "outputs": [
    {
     "data": {
      "text/plain": [
       "[{'advantage': 'A useful trait that gives you an “edge” over another person with comparable attributes and skills. See Chapter 2. attributes'},\n",
       " {'cinematic': 'A style of play where the needs of the story outweigh those of realism, even when that would produce improbable results. See p. 488.'},\n",
       " {'d': 'Short for “dice.” “Roll 3d” means “roll three ordinary six-sided dice and add them up.” See p. 9. Dexterity (DX)'},\n",
       " {'disadvantage': 'A problem that renders you less capable than your other traits would indicate. See Chapter 3. enhancement'},\n",
       " {'Fatigue Points (FP)': 'A measure of resistance to exhaustion. See p. 16. Health (HT)'},\n",
       " {'Hit Points (HP)': 'A measure of ability to absorb punishment. See p. 16. Intelligence (IQ)'},\n",
       " {'skill': 'A number defining your trained ability in an area of knowledge or broad class of tasks. See Chapter 4. Strength (ST)'},\n",
       " {'trait': 'An advantage, attribute, disadvantage, skill, or other character “building block” that affects game play and costs points to add, modify, or remove.'}]"
      ]
     },
     "execution_count": 17,
     "metadata": {},
     "output_type": "execute_result"
    }
   ],
   "source": [
    "parse_list(l1)"
   ]
  },
  {
   "cell_type": "code",
   "execution_count": 26,
   "id": "e49ca86d-0412-4329-806f-c76803feb5cc",
   "metadata": {},
   "outputs": [
    {
     "data": {
      "text/plain": [
       "['1. Quickly skim this book, just to get the flavor of the game. Don’t worry about the details yet.',\n",
       " '2. Read the Mini-Glossary (p. 7) to learn the basic terminology.',\n",
       " '3. Read the Quick-Start and Conventions sections to learn the basic game concepts.',\n",
       " '4. Read Creating a Character (pp. 10-12) to get an idea of the different things characters can do.']"
      ]
     },
     "execution_count": 26,
     "metadata": {},
     "output_type": "execute_result"
    }
   ],
   "source": [
    "parse_list(l4)"
   ]
  },
  {
   "cell_type": "code",
   "execution_count": 48,
   "id": "c3f4a811-985e-429d-808f-c9820ac25650",
   "metadata": {},
   "outputs": [
    {
     "name": "stdout",
     "output_type": "stream",
     "text": [
      "{'Exotic': 'An alien, angel, robot, “super” (a comic-book superhuman), or '\n",
      "           'other hero defined by his unusual powers or nature. Most of his '\n",
      "           'starting points should go toward high attributes, exotic or '\n",
      "           'supernatural advantages (see p. 32), or a racial template (see p. '\n",
      "           '260). As a result, he probably has fewer mundane abilities than '\n",
      "           'his fellow adventurers.',\n",
      " 'Jack-of-All-Trades': 'A many-skilled hero: mercenary, bush pilot, reporter, '\n",
      "                       'etc. DX and IQ are most important. Advantages such as '\n",
      "                       'Talent and Versatile can help. Pick one or two skills '\n",
      "                       'from those suggested for each of the other character '\n",
      "                       'types. A Jack-of- All-Trades isn’t as good as a '\n",
      "                       'dedicated expert, but he has some skill in many areas.',\n",
      " 'Mouthpiece': 'A bard, con man, or other person who exploits wit and charm. '\n",
      "               'IQ is crucial. Charisma, Cultural Familiarity, Rapier Wit, '\n",
      "               'Voice, and a good appearance are all useful. Most important '\n",
      "               'are skills that emphasize social interaction: Carousing, '\n",
      "               'Fast-Talk, Merchant, Public Speaking, and so on.',\n",
      " 'Sage': 'A “wise man” – priest, professor, scientist, etc. High IQ is '\n",
      "         'essential. Classic advantages are Eidetic Memory, Intuition, '\n",
      "         'Language Talent, and Languages (and, in some campaigns, '\n",
      "         'Illuminated!). He needs several related IQ/Hard skills in obscure '\n",
      "         'fields (Expert Skills are especially suitable), as well as Research, '\n",
      "         'Teaching, and Writing.'}\n"
     ]
    }
   ],
   "source": [
    "pp(parse_list(l5))"
   ]
  },
  {
   "cell_type": "markdown",
   "id": "79e951f0-e6ec-43f7-b4fa-e4c6ff6fe111",
   "metadata": {
    "jp-MarkdownHeadingCollapsed": true,
    "tags": []
   },
   "source": [
    "# Tables"
   ]
  },
  {
   "cell_type": "code",
   "execution_count": 55,
   "id": "a27ec45b-9ca3-4abc-9349-a79bb1eb3f95",
   "metadata": {},
   "outputs": [
    {
     "data": {
      "text/html": [
       "<div>\n",
       "<style scoped>\n",
       "    .dataframe tbody tr th:only-of-type {\n",
       "        vertical-align: middle;\n",
       "    }\n",
       "\n",
       "    .dataframe tbody tr th {\n",
       "        vertical-align: top;\n",
       "    }\n",
       "\n",
       "    .dataframe thead th {\n",
       "        text-align: right;\n",
       "    }\n",
       "</style>\n",
       "<table border=\"1\" class=\"dataframe\">\n",
       "  <thead>\n",
       "    <tr style=\"text-align: right;\">\n",
       "      <th></th>\n",
       "      <th>Imperial</th>\n",
       "      <th>Game Metric</th>\n",
       "      <th>Real Metric</th>\n",
       "    </tr>\n",
       "  </thead>\n",
       "  <tbody>\n",
       "    <tr>\n",
       "      <th>0</th>\n",
       "      <td>1 inch (in.)</td>\n",
       "      <td>2.5 cm</td>\n",
       "      <td>2.54 cm</td>\n",
       "    </tr>\n",
       "    <tr>\n",
       "      <th>1</th>\n",
       "      <td>1 foot (ft.)</td>\n",
       "      <td>30 cm</td>\n",
       "      <td>30.48 cm</td>\n",
       "    </tr>\n",
       "    <tr>\n",
       "      <th>2</th>\n",
       "      <td>1 yard (yd.)</td>\n",
       "      <td>1 meter</td>\n",
       "      <td>0.914 meters</td>\n",
       "    </tr>\n",
       "    <tr>\n",
       "      <th>3</th>\n",
       "      <td>1 mile (mi.)</td>\n",
       "      <td>1.5 km</td>\n",
       "      <td>1.609 km</td>\n",
       "    </tr>\n",
       "    <tr>\n",
       "      <th>4</th>\n",
       "      <td>1 pound (lb.)</td>\n",
       "      <td>0.5 kg</td>\n",
       "      <td>0.454 kg</td>\n",
       "    </tr>\n",
       "    <tr>\n",
       "      <th>5</th>\n",
       "      <td>1 ton</td>\n",
       "      <td>1 metric ton</td>\n",
       "      <td>0.907 metric tons</td>\n",
       "    </tr>\n",
       "    <tr>\n",
       "      <th>6</th>\n",
       "      <td>1 gallon (gal.)</td>\n",
       "      <td>4 liters</td>\n",
       "      <td>3.785 liters</td>\n",
       "    </tr>\n",
       "    <tr>\n",
       "      <th>7</th>\n",
       "      <td>1 quart (qt.)</td>\n",
       "      <td>1 liter</td>\n",
       "      <td>0.946 liters</td>\n",
       "    </tr>\n",
       "    <tr>\n",
       "      <th>8</th>\n",
       "      <td>1 ounce (oz.)</td>\n",
       "      <td>30 grams</td>\n",
       "      <td>28.349 grams</td>\n",
       "    </tr>\n",
       "    <tr>\n",
       "      <th>9</th>\n",
       "      <td>1 cubic inch (ci)</td>\n",
       "      <td>16 cubic cm</td>\n",
       "      <td>16.387 cu. cm</td>\n",
       "    </tr>\n",
       "    <tr>\n",
       "      <th>10</th>\n",
       "      <td>1 cubic yard (cy)</td>\n",
       "      <td>0.75 cubic m</td>\n",
       "      <td>0.765 cubic m</td>\n",
       "    </tr>\n",
       "  </tbody>\n",
       "</table>\n",
       "</div>"
      ],
      "text/plain": [
       "             Imperial     Game Metric          Real Metric\n",
       "0        1 inch (in.)          2.5 cm              2.54 cm\n",
       "1        1 foot (ft.)           30 cm             30.48 cm\n",
       "2        1 yard (yd.)         1 meter         0.914 meters\n",
       "3        1 mile (mi.)          1.5 km             1.609 km\n",
       "4       1 pound (lb.)          0.5 kg             0.454 kg\n",
       "5               1 ton    1 metric ton    0.907 metric tons\n",
       "6     1 gallon (gal.)        4 liters         3.785 liters\n",
       "7       1 quart (qt.)         1 liter         0.946 liters\n",
       "8       1 ounce (oz.)        30 grams         28.349 grams\n",
       "9   1 cubic inch (ci)     16 cubic cm        16.387 cu. cm\n",
       "10  1 cubic yard (cy)    0.75 cubic m        0.765 cubic m"
      ]
     },
     "execution_count": 55,
     "metadata": {},
     "output_type": "execute_result"
    }
   ],
   "source": [
    "parse_table(table1)"
   ]
  },
  {
   "cell_type": "code",
   "execution_count": 58,
   "id": "ac887689-a4d0-466f-8a3c-a58829ef90e3",
   "metadata": {},
   "outputs": [
    {
     "data": {
      "text/html": [
       "<div>\n",
       "<style scoped>\n",
       "    .dataframe tbody tr th:only-of-type {\n",
       "        vertical-align: middle;\n",
       "    }\n",
       "\n",
       "    .dataframe tbody tr th {\n",
       "        vertical-align: top;\n",
       "    }\n",
       "\n",
       "    .dataframe thead th {\n",
       "        text-align: right;\n",
       "    }\n",
       "</style>\n",
       "<table border=\"1\" class=\"dataframe\">\n",
       "  <thead>\n",
       "    <tr style=\"text-align: right;\">\n",
       "      <th></th>\n",
       "      <th></th>\n",
       "      <th></th>\n",
       "      <th></th>\n",
       "      <th>ST</th>\n",
       "      <th>BL</th>\n",
       "      <th>Encumbrance Levels (lbs.)</th>\n",
       "    </tr>\n",
       "  </thead>\n",
       "  <tbody>\n",
       "    <tr>\n",
       "      <th>(lbs.)</th>\n",
       "      <th></th>\n",
       "      <th>None (0)</th>\n",
       "      <th>Light (1)</th>\n",
       "      <td>Medium (2)</td>\n",
       "      <td>Heavy (3)</td>\n",
       "      <td>Extra-Heavy (4)</td>\n",
       "    </tr>\n",
       "    <tr>\n",
       "      <th>1</th>\n",
       "      <th>0.2</th>\n",
       "      <th>0.2</th>\n",
       "      <th>0.4</th>\n",
       "      <td>0.6</td>\n",
       "      <td>1.2</td>\n",
       "      <td>2</td>\n",
       "    </tr>\n",
       "    <tr>\n",
       "      <th>2</th>\n",
       "      <th>0.8</th>\n",
       "      <th>0.8</th>\n",
       "      <th>1.6</th>\n",
       "      <td>2.4</td>\n",
       "      <td>4.8</td>\n",
       "      <td>8</td>\n",
       "    </tr>\n",
       "    <tr>\n",
       "      <th>3</th>\n",
       "      <th>1.8</th>\n",
       "      <th>1.8</th>\n",
       "      <th>3.6</th>\n",
       "      <td>5.4</td>\n",
       "      <td>10.8</td>\n",
       "      <td>18</td>\n",
       "    </tr>\n",
       "    <tr>\n",
       "      <th>4</th>\n",
       "      <th>3.2</th>\n",
       "      <th>3.2</th>\n",
       "      <th>6.4</th>\n",
       "      <td>9.6</td>\n",
       "      <td>19.2</td>\n",
       "      <td>32</td>\n",
       "    </tr>\n",
       "    <tr>\n",
       "      <th>5</th>\n",
       "      <th>5</th>\n",
       "      <th>5</th>\n",
       "      <th>10</th>\n",
       "      <td>15</td>\n",
       "      <td>30</td>\n",
       "      <td>50</td>\n",
       "    </tr>\n",
       "  </tbody>\n",
       "</table>\n",
       "</div>"
      ],
      "text/plain": [
       "                                               ST           BL   \\\n",
       "(lbs.)         None (0)   Light (1)    Medium (2)    Heavy (3)    \n",
       "1        0.2   0.2        0.4                 0.6          1.2    \n",
       "2        0.8   0.8        1.6                 2.4          4.8    \n",
       "3        1.8   1.8        3.6                 5.4         10.8    \n",
       "4        3.2   3.2        6.4                 9.6         19.2    \n",
       "5        5     5          10                   15           30    \n",
       "\n",
       "                                      Encumbrance Levels (lbs.)  \n",
       "(lbs.)         None (0)   Light (1)             Extra-Heavy (4)  \n",
       "1        0.2   0.2        0.4                                 2  \n",
       "2        0.8   0.8        1.6                                 8  \n",
       "3        1.8   1.8        3.6                                18  \n",
       "4        3.2   3.2        6.4                                32  \n",
       "5        5     5          10                                 50  "
      ]
     },
     "execution_count": 58,
     "metadata": {},
     "output_type": "execute_result"
    }
   ],
   "source": [
    "parse_table(table2)"
   ]
  },
  {
   "cell_type": "code",
   "execution_count": 73,
   "id": "e6b393be-5b14-4146-ba17-b3b5e4df881f",
   "metadata": {},
   "outputs": [
    {
     "data": {
      "text/html": [
       "<div>\n",
       "<style scoped>\n",
       "    .dataframe tbody tr th:only-of-type {\n",
       "        vertical-align: middle;\n",
       "    }\n",
       "\n",
       "    .dataframe tbody tr th {\n",
       "        vertical-align: top;\n",
       "    }\n",
       "\n",
       "    .dataframe thead tr th {\n",
       "        text-align: left;\n",
       "    }\n",
       "</style>\n",
       "<table border=\"1\" class=\"dataframe\">\n",
       "  <thead>\n",
       "    <tr>\n",
       "      <th></th>\n",
       "      <th>ST</th>\n",
       "      <th>BL</th>\n",
       "      <th colspan=\"5\" halign=\"left\">Encumbrance Levels (lbs.)</th>\n",
       "    </tr>\n",
       "    <tr>\n",
       "      <th></th>\n",
       "      <th>(lbs.)</th>\n",
       "      <th></th>\n",
       "      <th>None (0)</th>\n",
       "      <th>Light (1)</th>\n",
       "      <th>Medium (2)</th>\n",
       "      <th>Heavy (3)</th>\n",
       "      <th>Extra-Heavy (4)</th>\n",
       "    </tr>\n",
       "  </thead>\n",
       "  <tbody>\n",
       "    <tr>\n",
       "      <th>0</th>\n",
       "      <td>1</td>\n",
       "      <td>0.2</td>\n",
       "      <td>0.2</td>\n",
       "      <td>0.4</td>\n",
       "      <td>0.6</td>\n",
       "      <td>1.2</td>\n",
       "      <td>2</td>\n",
       "    </tr>\n",
       "    <tr>\n",
       "      <th>1</th>\n",
       "      <td>2</td>\n",
       "      <td>0.8</td>\n",
       "      <td>0.8</td>\n",
       "      <td>1.6</td>\n",
       "      <td>2.4</td>\n",
       "      <td>4.8</td>\n",
       "      <td>8</td>\n",
       "    </tr>\n",
       "    <tr>\n",
       "      <th>2</th>\n",
       "      <td>3</td>\n",
       "      <td>1.8</td>\n",
       "      <td>1.8</td>\n",
       "      <td>3.6</td>\n",
       "      <td>5.4</td>\n",
       "      <td>10.8</td>\n",
       "      <td>18</td>\n",
       "    </tr>\n",
       "    <tr>\n",
       "      <th>3</th>\n",
       "      <td>4</td>\n",
       "      <td>3.2</td>\n",
       "      <td>3.2</td>\n",
       "      <td>6.4</td>\n",
       "      <td>9.6</td>\n",
       "      <td>19.2</td>\n",
       "      <td>32</td>\n",
       "    </tr>\n",
       "    <tr>\n",
       "      <th>4</th>\n",
       "      <td>5</td>\n",
       "      <td>5.0</td>\n",
       "      <td>5.0</td>\n",
       "      <td>10.0</td>\n",
       "      <td>15.0</td>\n",
       "      <td>30.0</td>\n",
       "      <td>50</td>\n",
       "    </tr>\n",
       "  </tbody>\n",
       "</table>\n",
       "</div>"
      ],
      "text/plain": [
       "      ST   BL   Encumbrance Levels (lbs.)                            \\\n",
       "  (lbs.)                         None (0)   Light (1)   Medium (2)    \n",
       "0       1  0.2                         0.2         0.4          0.6   \n",
       "1       2  0.8                         0.8         1.6          2.4   \n",
       "2       3  1.8                         1.8         3.6          5.4   \n",
       "3       4  3.2                         3.2         6.4          9.6   \n",
       "4       5  5.0                         5.0        10.0         15.0   \n",
       "\n",
       "                                \n",
       "   Heavy (3)   Extra-Heavy (4)  \n",
       "0         1.2                2  \n",
       "1         4.8                8  \n",
       "2        10.8               18  \n",
       "3        19.2               32  \n",
       "4        30.0               50  "
      ]
     },
     "execution_count": 73,
     "metadata": {},
     "output_type": "execute_result"
    }
   ],
   "source": [
    "parse_table(table2, header=[0, 1])"
   ]
  },
  {
   "cell_type": "code",
   "execution_count": 83,
   "id": "453d9755-d492-4407-b649-b5cd777f52fa",
   "metadata": {},
   "outputs": [
    {
     "data": {
      "text/html": [
       "<div>\n",
       "<style scoped>\n",
       "    .dataframe tbody tr th:only-of-type {\n",
       "        vertical-align: middle;\n",
       "    }\n",
       "\n",
       "    .dataframe tbody tr th {\n",
       "        vertical-align: top;\n",
       "    }\n",
       "\n",
       "    .dataframe thead tr th {\n",
       "        text-align: left;\n",
       "    }\n",
       "</style>\n",
       "<table border=\"1\" class=\"dataframe\">\n",
       "  <thead>\n",
       "    <tr>\n",
       "      <th></th>\n",
       "      <th>ST</th>\n",
       "      <th>Height Range</th>\n",
       "      <th colspan=\"5\" halign=\"left\">Weight Range by Build</th>\n",
       "    </tr>\n",
       "    <tr>\n",
       "      <th></th>\n",
       "      <th></th>\n",
       "      <th></th>\n",
       "      <th>Skinny</th>\n",
       "      <th>Average</th>\n",
       "      <th>Overweight</th>\n",
       "      <th>Fat</th>\n",
       "      <th>Very Fat</th>\n",
       "    </tr>\n",
       "  </thead>\n",
       "  <tbody>\n",
       "    <tr>\n",
       "      <th>0</th>\n",
       "      <td>6 or less</td>\n",
       "      <td>4’4”-5’2”</td>\n",
       "      <td>40-80 lbs.</td>\n",
       "      <td>60-120 lbs.</td>\n",
       "      <td>80-160 lbs.</td>\n",
       "      <td>90-180 lbs.</td>\n",
       "      <td>120-240 lbs.</td>\n",
       "    </tr>\n",
       "    <tr>\n",
       "      <th>1</th>\n",
       "      <td>7</td>\n",
       "      <td>4’7”-5’5”</td>\n",
       "      <td>50-90 lbs.</td>\n",
       "      <td>75-135 lbs.</td>\n",
       "      <td>100-175 lbs.</td>\n",
       "      <td>115-205 lbs.</td>\n",
       "      <td>150-270 lbs.</td>\n",
       "    </tr>\n",
       "    <tr>\n",
       "      <th>2</th>\n",
       "      <td>8</td>\n",
       "      <td>4’10”-5’8”</td>\n",
       "      <td>60-100 lbs.</td>\n",
       "      <td>90-150 lbs.</td>\n",
       "      <td>120-195 lbs.</td>\n",
       "      <td>135-225 lbs.</td>\n",
       "      <td>180-300 lbs.</td>\n",
       "    </tr>\n",
       "  </tbody>\n",
       "</table>\n",
       "</div>"
      ],
      "text/plain": [
       "          ST   Height Range   Weight Range by Build                  \\\n",
       "                                             Skinny        Average    \n",
       "0  6 or less      4’4”-5’2”              40-80 lbs.    60-120 lbs.    \n",
       "1          7      4’7”-5’5”              50-90 lbs.    75-135 lbs.    \n",
       "2          8     4’10”-5’8”             60-100 lbs.    90-150 lbs.    \n",
       "\n",
       "                                                  \n",
       "      Overweight             Fat        Very Fat  \n",
       "0    80-160 lbs.     90-180 lbs.    120-240 lbs.  \n",
       "1   100-175 lbs.    115-205 lbs.    150-270 lbs.  \n",
       "2   120-195 lbs.    135-225 lbs.    180-300 lbs.  "
      ]
     },
     "execution_count": 83,
     "metadata": {},
     "output_type": "execute_result"
    }
   ],
   "source": [
    "parse_table(table3, header=[0, 1])"
   ]
  },
  {
   "cell_type": "code",
   "execution_count": 75,
   "id": "27a01066-00cf-49b3-a217-7a1affc95b00",
   "metadata": {},
   "outputs": [
    {
     "data": {
      "text/plain": [
       "'ST | Height | Weight Range by Build | Weight Range by Build | Weight Range by Build | Weight Range by Build | Weight Range by Build \\n| Range | Skinny | Average | Overweight | Fat | Very Fat\\n6 or less | 4’4”-5’2” | 40-80 lbs. | 60-120 lbs. | 80-160 lbs. | 90-180 lbs. | 120-240 lbs.\\n7 | 4’7”-5’5” | 50-90 lbs. | 75-135 lbs. | 100-175 lbs. | 115-205 lbs. | 150-270 lbs.\\n8 | 4’10”-5’8” | 60-100 lbs. | 90-150 lbs. | 120-195 lbs. | 135-225 lbs. | 180-300 lbs.\\n'"
      ]
     },
     "execution_count": 75,
     "metadata": {},
     "output_type": "execute_result"
    }
   ],
   "source": [
    "table3"
   ]
  },
  {
   "cell_type": "markdown",
   "id": "8fc1ace1-de6f-4e83-bcce-a1102d56bc82",
   "metadata": {},
   "source": [
    "# Container"
   ]
  },
  {
   "cell_type": "code",
   "execution_count": 4,
   "id": "84a9ad17-e872-4258-863e-e588843c10ac",
   "metadata": {},
   "outputs": [],
   "source": [
    "from models import (\n",
    "    GurpsContainer as Container,\n",
    "    Book,\n",
    "    Chapter,\n",
    "    Paragraphs,\n",
    "    List,\n",
    "    Table,\n",
    "    Heading,\n",
    "    InfoBox,\n",
    "    Advantage,\n",
    "    Disadvantage,\n",
    "    SubAdvantage,\n",
    "    SubDisadvantage\n",
    ")"
   ]
  },
  {
   "cell_type": "code",
   "execution_count": 24,
   "id": "dc47c982-42b8-4724-bd29-4d8244fcd603",
   "metadata": {},
   "outputs": [],
   "source": [
    "container = Container(book=Book(title=\"Test Book\"))"
   ]
  },
  {
   "cell_type": "code",
   "execution_count": 66,
   "id": "c6c12e42-360b-45b2-8e04-4a65f7878cf1",
   "metadata": {},
   "outputs": [],
   "source": [
    "chapter = container.add(\n",
    "    Chapter(\n",
    "        parent_id=container.book.id,\n",
    "        page=2,\n",
    "        title=\"Chapter 2\"\n",
    "    )\n",
    ")"
   ]
  },
  {
   "cell_type": "code",
   "execution_count": 23,
   "id": "cf36cdc2-5f9d-45a8-8a02-7aaa9b9c5851",
   "metadata": {},
   "outputs": [
    {
     "data": {
      "text/plain": [
       "'This is another test\\nit should also work.\\n\\nSo let us see\\n'"
      ]
     },
     "execution_count": 23,
     "metadata": {},
     "output_type": "execute_result"
    }
   ],
   "source": [
    "t2"
   ]
  },
  {
   "cell_type": "code",
   "execution_count": 27,
   "id": "7bf92cf9-eb27-4dae-b9ce-9afc285c94ad",
   "metadata": {},
   "outputs": [
    {
     "data": {
      "text/plain": [
       "['This is another test it should also work.', 'So let us see']"
      ]
     },
     "execution_count": 27,
     "metadata": {},
     "output_type": "execute_result"
    }
   ],
   "source": [
    "parse_paragraphs(t2)"
   ]
  },
  {
   "cell_type": "code",
   "execution_count": 28,
   "id": "423dbea9-6962-45ef-8471-e987328e1a4f",
   "metadata": {},
   "outputs": [],
   "source": [
    "p = container.add(\n",
    "    Paragraphs(\n",
    "        parent_id=chapter.id,\n",
    "        page=chapter.page,\n",
    "        content=parse_paragraphs(t2)\n",
    "    )\n",
    ")"
   ]
  },
  {
   "cell_type": "code",
   "execution_count": 56,
   "id": "5a6e41ed-349c-4426-af9c-dd682507b18c",
   "metadata": {},
   "outputs": [],
   "source": [
    "h = container.add(\n",
    "    Heading(parent_id=chapter.id, page=chapter.page, title=\"Heading 1\")\n",
    ")"
   ]
  },
  {
   "cell_type": "code",
   "execution_count": 61,
   "id": "078b07b7-1e15-471a-a30c-aef88efcd820",
   "metadata": {},
   "outputs": [],
   "source": [
    "p = container.add(\n",
    "    Paragraphs(\n",
    "        parent_id=h.id,\n",
    "        page=h.page,\n",
    "        content=parse_paragraphs(t1)\n",
    "    )\n",
    ")"
   ]
  },
  {
   "cell_type": "code",
   "execution_count": 57,
   "id": "239c57a2-ea17-4f64-b0d8-a4c54eab6ac1",
   "metadata": {},
   "outputs": [
    {
     "data": {
      "text/plain": [
       "TitleChildrenItem(id=UUID('aeda4df4-e66e-4e7a-bc48-86a31aeb65d7'), parent_id=UUID('4fa6a15c-afcb-4780-9ece-c4685f5ca34a'), page=1, title='Heading 1', children=[])"
      ]
     },
     "execution_count": 57,
     "metadata": {},
     "output_type": "execute_result"
    }
   ],
   "source": [
    "h"
   ]
  },
  {
   "cell_type": "code",
   "execution_count": 73,
   "id": "92afa5da-d918-44e6-9359-6e1e6cc113fe",
   "metadata": {},
   "outputs": [],
   "source": [
    "a = list(container.chapters.values())[0]"
   ]
  },
  {
   "cell_type": "code",
   "execution_count": 76,
   "id": "333ca436-5042-4676-ac56-c2535c564d44",
   "metadata": {},
   "outputs": [
    {
     "data": {
      "text/plain": [
       "True"
      ]
     },
     "execution_count": 76,
     "metadata": {},
     "output_type": "execute_result"
    }
   ],
   "source": [
    "isinstance(a, Chapter)"
   ]
  },
  {
   "cell_type": "code",
   "execution_count": 67,
   "id": "9ce7a955-9601-4140-88e1-bcd70311de48",
   "metadata": {},
   "outputs": [],
   "source": [
    "book = container.get_book_recursive()"
   ]
  },
  {
   "cell_type": "code",
   "execution_count": 68,
   "id": "c1c2ea6a-a53f-4f72-bd08-4526d8fe2475",
   "metadata": {},
   "outputs": [
    {
     "name": "stdout",
     "output_type": "stream",
     "text": [
      "[Book(id=UUID('450c6eca-9042-4a51-8ef1-8ae55bd82043'), title='Test Book', children=[UUID('4fa6a15c-afcb-4780-9ece-c4685f5ca34a'), UUID('078fe27e-92aa-4402-9734-2dbe74ff784c'), UUID('da1e9e91-e132-42f6-bda7-bd0d124792f9')]),\n",
      " [TitleChildrenItem(id=UUID('4fa6a15c-afcb-4780-9ece-c4685f5ca34a'), parent_id=UUID('450c6eca-9042-4a51-8ef1-8ae55bd82043'), page=1, title='Chapter 1', children=[UUID('8a477d59-4f98-4902-b60b-916caa0b3993'), UUID('aeda4df4-e66e-4e7a-bc48-86a31aeb65d7')]),\n",
      "  [Paragraphs(id=UUID('8a477d59-4f98-4902-b60b-916caa0b3993'), parent_id=UUID('4fa6a15c-afcb-4780-9ece-c4685f5ca34a'), page=1, content=['This is another test it should also work.', 'So let us see']),\n",
      "   TitleChildrenItem(id=UUID('aeda4df4-e66e-4e7a-bc48-86a31aeb65d7'), parent_id=UUID('4fa6a15c-afcb-4780-9ece-c4685f5ca34a'), page=1, title='Heading 1', children=[UUID('515711f8-3ca3-4ad3-8938-04cf010f7195')]),\n",
      "   [Paragraphs(id=UUID('515711f8-3ca3-4ad3-8938-04cf010f7195'), parent_id=UUID('aeda4df4-e66e-4e7a-bc48-86a31aeb65d7'), page=1, content=['Testing is this works it should work'])]],\n",
      "  TitleChildrenItem(id=UUID('078fe27e-92aa-4402-9734-2dbe74ff784c'), parent_id=UUID('450c6eca-9042-4a51-8ef1-8ae55bd82043'), page=1, title='Chapter 2', children=[]),\n",
      "  [],\n",
      "  TitleChildrenItem(id=UUID('da1e9e91-e132-42f6-bda7-bd0d124792f9'), parent_id=UUID('450c6eca-9042-4a51-8ef1-8ae55bd82043'), page=2, title='Chapter 2', children=[]),\n",
      "  []]]\n"
     ]
    }
   ],
   "source": [
    "pp(book)"
   ]
  },
  {
   "cell_type": "code",
   "execution_count": 51,
   "id": "6097aa25-58e4-4457-9585-cea04353dfd3",
   "metadata": {},
   "outputs": [
    {
     "data": {
      "text/plain": [
       "2"
      ]
     },
     "execution_count": 51,
     "metadata": {},
     "output_type": "execute_result"
    }
   ],
   "source": [
    "len(book)"
   ]
  },
  {
   "cell_type": "code",
   "execution_count": 52,
   "id": "4f60795f-f877-4252-9bf3-0e2d59ec8fb0",
   "metadata": {},
   "outputs": [
    {
     "data": {
      "text/plain": [
       "Book(id=UUID('450c6eca-9042-4a51-8ef1-8ae55bd82043'), title='Test Book', children=[UUID('4fa6a15c-afcb-4780-9ece-c4685f5ca34a')])"
      ]
     },
     "execution_count": 52,
     "metadata": {},
     "output_type": "execute_result"
    }
   ],
   "source": [
    "book[0]"
   ]
  },
  {
   "cell_type": "code",
   "execution_count": 60,
   "id": "37f1dd26-c5b5-4419-b48a-ae481a5c69bf",
   "metadata": {},
   "outputs": [
    {
     "data": {
      "text/plain": [
       "[TitleChildrenItem(id=UUID('4fa6a15c-afcb-4780-9ece-c4685f5ca34a'), parent_id=UUID('450c6eca-9042-4a51-8ef1-8ae55bd82043'), page=1, title='Chapter 1', children=[UUID('8a477d59-4f98-4902-b60b-916caa0b3993'), UUID('aeda4df4-e66e-4e7a-bc48-86a31aeb65d7')]),\n",
       " [Paragraphs(id=UUID('8a477d59-4f98-4902-b60b-916caa0b3993'), parent_id=UUID('4fa6a15c-afcb-4780-9ece-c4685f5ca34a'), page=1, content=['This is another test it should also work.', 'So let us see']),\n",
       "  TitleChildrenItem(id=UUID('aeda4df4-e66e-4e7a-bc48-86a31aeb65d7'), parent_id=UUID('4fa6a15c-afcb-4780-9ece-c4685f5ca34a'), page=1, title='Heading 1', children=[]),\n",
       "  []]]"
      ]
     },
     "execution_count": 60,
     "metadata": {},
     "output_type": "execute_result"
    }
   ],
   "source": [
    "book[1]"
   ]
  },
  {
   "cell_type": "code",
   "execution_count": 54,
   "id": "d1b5a7ab-06b0-4dc8-ac4e-e4cb37b4554b",
   "metadata": {},
   "outputs": [
    {
     "data": {
      "text/plain": [
       "2"
      ]
     },
     "execution_count": 54,
     "metadata": {},
     "output_type": "execute_result"
    }
   ],
   "source": [
    "len(book[1])"
   ]
  },
  {
   "cell_type": "code",
   "execution_count": 55,
   "id": "fa7a2b06-55e7-4eb3-93d0-ed85eda2fff2",
   "metadata": {},
   "outputs": [
    {
     "data": {
      "text/plain": [
       "TitleChildrenItem(id=UUID('4fa6a15c-afcb-4780-9ece-c4685f5ca34a'), parent_id=UUID('450c6eca-9042-4a51-8ef1-8ae55bd82043'), page=1, title='Chapter 1', children=[UUID('8a477d59-4f98-4902-b60b-916caa0b3993')])"
      ]
     },
     "execution_count": 55,
     "metadata": {},
     "output_type": "execute_result"
    }
   ],
   "source": [
    "book[1][0]"
   ]
  },
  {
   "cell_type": "code",
   "execution_count": null,
   "id": "8da46f41-4ff9-48a9-9e1f-9f3bdc692173",
   "metadata": {},
   "outputs": [],
   "source": [
    "book[]"
   ]
  },
  {
   "cell_type": "code",
   "execution_count": 30,
   "id": "f83f67d1-7fcd-417b-9178-b5ad3ae99220",
   "metadata": {},
   "outputs": [
    {
     "ename": "TypeError",
     "evalue": "BookContainer._get_dict() got an unexpected keyword argument 'recursive'",
     "output_type": "error",
     "traceback": [
      "\u001b[1;31m---------------------------------------------------------------------------\u001b[0m",
      "\u001b[1;31mTypeError\u001b[0m                                 Traceback (most recent call last)",
      "Cell \u001b[1;32mIn [30], line 1\u001b[0m\n\u001b[1;32m----> 1\u001b[0m pp(\u001b[43mcontainer\u001b[49m\u001b[38;5;241;43m.\u001b[39;49m\u001b[43mget_book_dict_recursive\u001b[49m\u001b[43m(\u001b[49m\u001b[43m)\u001b[49m)\n",
      "File \u001b[1;32m~\\OneDrive\\Project\\pdf-parser-from-hell\\models\\book_container.py:118\u001b[0m, in \u001b[0;36mBookContainer.get_book_dict_recursive\u001b[1;34m(self)\u001b[0m\n\u001b[0;32m    117\u001b[0m \u001b[38;5;28;01mdef\u001b[39;00m \u001b[38;5;21mget_book_dict_recursive\u001b[39m(\u001b[38;5;28mself\u001b[39m):\n\u001b[1;32m--> 118\u001b[0m     \u001b[38;5;28;01mreturn\u001b[39;00m \u001b[38;5;28;43mself\u001b[39;49m\u001b[38;5;241;43m.\u001b[39;49m\u001b[43m_get_dict\u001b[49m\u001b[43m(\u001b[49m\u001b[38;5;28;43mself\u001b[39;49m\u001b[38;5;241;43m.\u001b[39;49m\u001b[43mget_book\u001b[49m\u001b[43m(\u001b[49m\u001b[43m)\u001b[49m\u001b[43m,\u001b[49m\u001b[43m \u001b[49m\u001b[43mchildren\u001b[49m\u001b[38;5;241;43m=\u001b[39;49m\u001b[38;5;28;43;01mTrue\u001b[39;49;00m\u001b[43m,\u001b[49m\u001b[43m \u001b[49m\u001b[43mrecursive\u001b[49m\u001b[38;5;241;43m=\u001b[39;49m\u001b[38;5;28;43;01mTrue\u001b[39;49;00m\u001b[43m)\u001b[49m\n",
      "\u001b[1;31mTypeError\u001b[0m: BookContainer._get_dict() got an unexpected keyword argument 'recursive'"
     ]
    }
   ],
   "source": [
    "pp(container.get_book_dict_recursive())"
   ]
  },
  {
   "cell_type": "code",
   "execution_count": null,
   "id": "357222cd-b4b5-4ef7-a1af-fbcee233b8c4",
   "metadata": {},
   "outputs": [],
   "source": []
  }
 ],
 "metadata": {
  "kernelspec": {
   "display_name": "Python 3 (ipykernel)",
   "language": "python",
   "name": "python3"
  },
  "language_info": {
   "codemirror_mode": {
    "name": "ipython",
    "version": 3
   },
   "file_extension": ".py",
   "mimetype": "text/x-python",
   "name": "python",
   "nbconvert_exporter": "python",
   "pygments_lexer": "ipython3",
   "version": "3.11.0"
  }
 },
 "nbformat": 4,
 "nbformat_minor": 5
}
