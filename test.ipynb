{
 "cells": [
  {
   "cell_type": "code",
   "execution_count": 1,
   "id": "d5e2fbfc-4dfd-4e1b-9e9a-4f12d8409330",
   "metadata": {},
   "outputs": [],
   "source": [
    "%load_ext autoreload\n",
    "%autoreload 2"
   ]
  },
  {
   "cell_type": "code",
   "execution_count": null,
   "id": "feb55e88-fd88-4a3a-9d76-82b1b72d357d",
   "metadata": {},
   "outputs": [],
   "source": [
    "from models import (\n",
    "    Advantage,\n",
    "    Disadvantage\n",
    ")"
   ]
  }
 ],
 "metadata": {
  "kernelspec": {
   "display_name": "Python 3 (ipykernel)",
   "language": "python",
   "name": "python3"
  },
  "language_info": {
   "codemirror_mode": {
    "name": "ipython",
    "version": 3
   },
   "file_extension": ".py",
   "mimetype": "text/x-python",
   "name": "python",
   "nbconvert_exporter": "python",
   "pygments_lexer": "ipython3",
   "version": "3.11.0"
  }
 },
 "nbformat": 4,
 "nbformat_minor": 5
}
