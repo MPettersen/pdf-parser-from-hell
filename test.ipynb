{
 "cells": [
  {
   "cell_type": "code",
   "execution_count": 1,
   "id": "d5e2fbfc-4dfd-4e1b-9e9a-4f12d8409330",
   "metadata": {},
   "outputs": [],
   "source": [
    "%load_ext autoreload\n",
    "%autoreload 2"
   ]
  },
  {
   "cell_type": "code",
   "execution_count": 6,
   "id": "0762d8e4-2b93-4f92-97c2-2b9d8c2bb380",
   "metadata": {},
   "outputs": [],
   "source": [
    "from uuid import UUID, uuid4"
   ]
  },
  {
   "cell_type": "code",
   "execution_count": 22,
   "id": "feb55e88-fd88-4a3a-9d76-82b1b72d357d",
   "metadata": {},
   "outputs": [],
   "source": [
    "from models import (\n",
    "    Advantage,\n",
    "    Disadvantage,\n",
    "    List\n",
    ")"
   ]
  },
  {
   "cell_type": "code",
   "execution_count": 17,
   "id": "ce355f70-3855-4421-9283-399be135cec9",
   "metadata": {},
   "outputs": [],
   "source": [
    "a = Advantage(parent_id=i, book_id=j, chapter_id=k, page=1, title=\"Test Advantage\", cost=\"10 points\", types=[\"askfjas\"])"
   ]
  },
  {
   "cell_type": "code",
   "execution_count": 23,
   "id": "30da28b4-0075-43b6-9f42-f8736d7f5b72",
   "metadata": {},
   "outputs": [],
   "source": [
    "b = List(parent_id=i, book_id=j, chapter_id=k, page=1, content=[1, 2, 3, 4])"
   ]
  },
  {
   "cell_type": "code",
   "execution_count": 27,
   "id": "efeee76c-d139-4d22-8b80-f567af67e86b",
   "metadata": {},
   "outputs": [
    {
     "data": {
      "text/plain": [
       "False"
      ]
     },
     "execution_count": 27,
     "metadata": {},
     "output_type": "execute_result"
    }
   ],
   "source": [
    "hasattr(b, \"children\")"
   ]
  },
  {
   "cell_type": "code",
   "execution_count": 28,
   "id": "413d4f7d-50de-4c27-b24f-1b213e3b3d8f",
   "metadata": {},
   "outputs": [
    {
     "data": {
      "text/plain": [
       "True"
      ]
     },
     "execution_count": 28,
     "metadata": {},
     "output_type": "execute_result"
    }
   ],
   "source": [
    "hasattr(a, \"children\")"
   ]
  },
  {
   "cell_type": "code",
   "execution_count": 21,
   "id": "5cec4d1c-25fa-47ca-bb6b-2e84b9deff39",
   "metadata": {},
   "outputs": [
    {
     "data": {
      "text/plain": [
       "[]"
      ]
     },
     "execution_count": 21,
     "metadata": {},
     "output_type": "execute_result"
    }
   ],
   "source": [
    "a.children"
   ]
  },
  {
   "cell_type": "code",
   "execution_count": 7,
   "id": "799355fd-15b1-4855-8fe8-e702cbfc5b07",
   "metadata": {},
   "outputs": [],
   "source": [
    "i = uuid4()\n",
    "j = uuid4()\n",
    "k = uuid4()"
   ]
  },
  {
   "cell_type": "code",
   "execution_count": 8,
   "id": "9251f038-3e19-4177-bae2-cfbfb2a1d59e",
   "metadata": {},
   "outputs": [
    {
     "data": {
      "text/plain": [
       "(UUID('da88c9d4-2a6a-4d47-a019-866c570c3678'),\n",
       " UUID('d094cbb1-59eb-463b-a621-e4f3ea35c382'),\n",
       " UUID('dd2db1a9-e814-408d-9d7d-04121fa170ee'))"
      ]
     },
     "execution_count": 8,
     "metadata": {},
     "output_type": "execute_result"
    }
   ],
   "source": [
    "i, j, k"
   ]
  },
  {
   "cell_type": "code",
   "execution_count": 9,
   "id": "8cddf1ef-ed56-442e-8d92-fd383c1f981a",
   "metadata": {},
   "outputs": [],
   "source": [
    "d = {\n",
    "    i: '',\n",
    "    j: '',\n",
    "    k: ''\n",
    "}"
   ]
  },
  {
   "cell_type": "code",
   "execution_count": 10,
   "id": "f9b57748-6345-4501-915d-b4a29c3db006",
   "metadata": {},
   "outputs": [
    {
     "data": {
      "text/plain": [
       "True"
      ]
     },
     "execution_count": 10,
     "metadata": {},
     "output_type": "execute_result"
    }
   ],
   "source": [
    "i in d"
   ]
  },
  {
   "cell_type": "code",
   "execution_count": 11,
   "id": "77e18f02-c32e-4f85-9582-18f970873852",
   "metadata": {},
   "outputs": [
    {
     "data": {
      "text/plain": [
       "True"
      ]
     },
     "execution_count": 11,
     "metadata": {},
     "output_type": "execute_result"
    }
   ],
   "source": [
    "j in d"
   ]
  },
  {
   "cell_type": "code",
   "execution_count": 12,
   "id": "eb2b9dc7-b036-45ae-bc7c-3a40b84bf0d3",
   "metadata": {},
   "outputs": [
    {
     "data": {
      "text/plain": [
       "True"
      ]
     },
     "execution_count": 12,
     "metadata": {},
     "output_type": "execute_result"
    }
   ],
   "source": [
    "k in d"
   ]
  },
  {
   "cell_type": "code",
   "execution_count": 13,
   "id": "4c4fc6c6-8566-4973-87a0-9ca9c91e7e7b",
   "metadata": {},
   "outputs": [
    {
     "data": {
      "text/plain": [
       "False"
      ]
     },
     "execution_count": 13,
     "metadata": {},
     "output_type": "execute_result"
    }
   ],
   "source": [
    "'da88c9d4-2a6a-4d47-a019-866c570c3678' in d"
   ]
  }
 ],
 "metadata": {
  "kernelspec": {
   "display_name": "Python 3 (ipykernel)",
   "language": "python",
   "name": "python3"
  },
  "language_info": {
   "codemirror_mode": {
    "name": "ipython",
    "version": 3
   },
   "file_extension": ".py",
   "mimetype": "text/x-python",
   "name": "python",
   "nbconvert_exporter": "python",
   "pygments_lexer": "ipython3",
   "version": "3.11.0"
  }
 },
 "nbformat": 4,
 "nbformat_minor": 5
}
